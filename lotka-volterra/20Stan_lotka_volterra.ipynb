{
  "nbformat": 4,
  "nbformat_minor": 0,
  "metadata": {
    "colab": {
      "name": "20Stan_lotka_volterra_(1).ipynb",
      "provenance": [],
      "collapsed_sections": [],
      "toc_visible": true
    },
    "kernelspec": {
      "display_name": "Python 3",
      "language": "python",
      "name": "python3"
    },
    "language_info": {
      "codemirror_mode": {
        "name": "ipython",
        "version": 3
      },
      "file_extension": ".py",
      "mimetype": "text/x-python",
      "name": "python",
      "nbconvert_exporter": "python",
      "pygments_lexer": "ipython3",
      "version": "3.7.6"
    }
  },
  "cells": [
    {
      "cell_type": "code",
      "metadata": {
        "colab_type": "code",
        "id": "hBkiivD5LW7e",
        "colab": {}
      },
      "source": [
        "import cmdstanpy\n",
        "import pandas as pd\n",
        "import numpy as np\n",
        "import matplotlib.pyplot as plt\n",
        "import os\n",
        "from cmdstanpy import CmdStanModel, cmdstan_path"
      ],
      "execution_count": 0,
      "outputs": []
    },
    {
      "cell_type": "markdown",
      "metadata": {
        "colab_type": "text",
        "id": "lxLXpPsoj6a2"
      },
      "source": [
        "# Predator-Prey Population Dynamics: the Lotka-Volterra model in Stan"
      ]
    },
    {
      "cell_type": "markdown",
      "metadata": {
        "colab_type": "text",
        "id": "RlXBUmm_j6a3"
      },
      "source": [
        "\n",
        "<a href = '#Data:-Lynx-and-Hare-Pelts-in-Canada'>Data: Lynx and Hare Pelts in Canada</a>\n",
        "\n",
        "<a href = '#Mechanistic-Model:-The-Lotka-Volterra-Equations'>Mechanistic Model: The Lotka-Volterra Equations</a>\n",
        "\n",
        "<a href = '#Statistical-Model:-Prior-Knowledge-and-Unexplained-Variation'>Statistical Model: Prior Knowledge and Unexplained Variation</a>\n",
        "\n",
        "<a href = '#Coding-the-Model:-Stan-Program'>Coding the Model: Stan Program</a>\n",
        "\n",
        "<a href = '#Solving-the-Inverse-Problem'>Solving the Inverse Problem: Bayesian Inference in Stan</a>\n",
        "\n",
        "<a href = '#Conclusion:-What-are-the-Population-Dynamics?'>Conclusion: What are the Population Dynamics?</a>\n",
        "\n",
        "<a href = '#Exercises-and-Extensions'>Exercises and Extensions</a>"
      ]
    },
    {
      "cell_type": "markdown",
      "metadata": {
        "colab_type": "text",
        "id": "hTruuoMlj6a4"
      },
      "source": [
        "Abstract\n",
        "\n",
        "Lotka (1925) and Volterra (1926) formulated parameteric differential equations that characterize the oscillating populations of predators and prey. A statistical model to account for measurement error and unexplained variation uses the deterministic solutions to the Lotka-Volterra equations as expected population sizes. Stan is used to encode the statistical model and perform full Bayesian inference to solve the inverse problem of inferring parameters from noisy data. The model is fit to Canadian lynx[<sup>1</sup>](#fn1) and snowshoe hare[<sup>2</sup>](#fn2) populations between 1900 and 1920, based on the number of pelts collected annually by the Hudson’s Bay Company. Posterior predictive checks for replicated data show the model fits this data well. Full Bayesian inference may be used to estimate future (or past) populations."
      ]
    },
    {
      "cell_type": "markdown",
      "metadata": {
        "id": "xsVKvfUiGIE2",
        "colab_type": "text"
      },
      "source": [
        "<span id=\"fn1\">1 Predator: Canadian lynx</span>\n",
        "![title](img/lynx.jpg\"width=\"400\")\n",
        "<span style=\"font-size:70%; float:right\"> © 2009, Keith Williams, CC-BY 2.0</span>\n",
        "    \n",
        "<span id=\"fn2\">2 Prey: snowshoe hare</span>\n",
        "![title](img/hare.jpg\"width=\"400\")\n",
        "<span style=\"font-size:70%; float:right\"> © 2013, D. Gordon E. Robertson, CC-BY SA 3.0</span>"
      ]
    },
    {
      "cell_type": "markdown",
      "metadata": {
        "colab_type": "text",
        "id": "bhoL22XVj6a4"
      },
      "source": [
        "## Data: Lynx and Hare Pelts in Canada\n",
        "\n",
        "The species of interest in this case study are\n",
        "\n",
        "- snowshoe hares, an hervivorous cousin of rabbits, and\n",
        "- Canadian lynxes, a feline predator whose diet consists largely of snowshoe hares.\n",
        "\n",
        "Rogers (2011) writes about the long history of population dynamics,\n",
        "\n",
        "> *The rise and fall in numbers of snowshoe hares and Canada lynx was observed more than two hundred years ago by trappers working for Hudson’s Bay Company, which was once heavily involved in the fur trade. In the early 20th century, records of the number of lynx and hare pelts traded by Hudson’s Bay were analyzed by biologist Charles Gordon Hewitt.*\n",
        "\n",
        "Following up on the original source, Hewitt (1921) provides plots of the number of pelts collected by the Hudson’s Bay Company, the largest fur trapper in Canada, between the years of 1821 and 1914[<sup>3</sup>](#fn3). Hewitt’s discussion ranges over many natural factors affecting the population sizes, such as plagues, migrations, and weather-related events. Hewitt even discusses measurement confounders such as the fact that lynx are easier to trap when they are hungry and weak, which is correlated with a relative decline in the hare population. The models we consider here for illustrative purposes will not consider any of these factors, though they could be extended to do so through the usual strategy of the inclusion of covariates (see the exercises). Hewitt also discusses many other species; hares and lynxes occupy only a small part of a single chapter.\n",
        "\n",
        "Howard (2009)[<sup>4</sup>](#fn4) provides numerical data for the number of pelts collected by the Hudson’s Bay Company in the years 1900-1920, which we have included in comma-separated value (CSV) form in the source repository with the case study."
      ]
    },
    {
      "cell_type": "markdown",
      "metadata": {
        "id": "a0KtbMK5GIE5",
        "colab_type": "text"
      },
      "source": [
        "<span id=\"fn3\">3 Graph from (Hewitt 1921) showing the numbers of pelts captured by the Hudson’s Bay Company. The fluctuations are irregular and the linear growth in rabbits after 1830 appears to be an artifact of interpolation.</span>\n",
        "\n",
        "![title](img/hewitt-plot.png\"width=\"400\")\n",
        "\n",
        "<span style=\"font-size:70%; float:right\">  © Scribner’s Sons 1921</span>"
      ]
    },
    {
      "cell_type": "markdown",
      "metadata": {
        "id": "hxfYDWseGIE6",
        "colab_type": "text"
      },
      "source": [
        "<span id=\"fn4\">4 Howard (personal communication) traces the numerical data to Joseph M. Mahaffy’s (2010) [lecture notes on mathematical modeling](http://jmahaffy.sdsu.edu/courses/f09/math636/lectures/lotka/qualde2.html) for his San Diego State University course (Math 636), which in turn cites Purves, Sadava, Orians, and Heller’s book, Life: The Science of Biology. </span>\n"
      ]
    },
    {
      "cell_type": "code",
      "metadata": {
        "colab_type": "code",
        "id": "dX9-7-Qbj6a5",
        "outputId": "e6827254-f9ef-4906-df7e-46577e7ffc67",
        "colab": {
          "base_uri": "https://localhost:8080/",
          "height": 225
        }
      },
      "source": [
        "lynx_hare_df = pd.read_csv('hudson-bay-lynx-hare.csv')\n",
        "pd.melt(lynx_hare_df, id_vars = 'Year').iloc[[0,1,20,21,40,41]].rename(columns = {'variable':'species', 'value':'pelts in thousands'})\n"
      ],
      "execution_count": 9,
      "outputs": [
        {
          "output_type": "execute_result",
          "data": {
            "text/html": [
              "<div>\n",
              "<style scoped>\n",
              "    .dataframe tbody tr th:only-of-type {\n",
              "        vertical-align: middle;\n",
              "    }\n",
              "\n",
              "    .dataframe tbody tr th {\n",
              "        vertical-align: top;\n",
              "    }\n",
              "\n",
              "    .dataframe thead th {\n",
              "        text-align: right;\n",
              "    }\n",
              "</style>\n",
              "<table border=\"1\" class=\"dataframe\">\n",
              "  <thead>\n",
              "    <tr style=\"text-align: right;\">\n",
              "      <th></th>\n",
              "      <th>Year</th>\n",
              "      <th>species</th>\n",
              "      <th>pelts in thousands</th>\n",
              "    </tr>\n",
              "  </thead>\n",
              "  <tbody>\n",
              "    <tr>\n",
              "      <th>0</th>\n",
              "      <td>1900</td>\n",
              "      <td>Lynx</td>\n",
              "      <td>4.0</td>\n",
              "    </tr>\n",
              "    <tr>\n",
              "      <th>1</th>\n",
              "      <td>1901</td>\n",
              "      <td>Lynx</td>\n",
              "      <td>6.1</td>\n",
              "    </tr>\n",
              "    <tr>\n",
              "      <th>20</th>\n",
              "      <td>1920</td>\n",
              "      <td>Lynx</td>\n",
              "      <td>8.6</td>\n",
              "    </tr>\n",
              "    <tr>\n",
              "      <th>21</th>\n",
              "      <td>1900</td>\n",
              "      <td>Hare</td>\n",
              "      <td>30.0</td>\n",
              "    </tr>\n",
              "    <tr>\n",
              "      <th>40</th>\n",
              "      <td>1919</td>\n",
              "      <td>Hare</td>\n",
              "      <td>16.2</td>\n",
              "    </tr>\n",
              "    <tr>\n",
              "      <th>41</th>\n",
              "      <td>1920</td>\n",
              "      <td>Hare</td>\n",
              "      <td>24.7</td>\n",
              "    </tr>\n",
              "  </tbody>\n",
              "</table>\n",
              "</div>"
            ],
            "text/plain": [
              "    Year species  pelts in thousands\n",
              "0   1900    Lynx                 4.0\n",
              "1   1901    Lynx                 6.1\n",
              "20  1920    Lynx                 8.6\n",
              "21  1900    Hare                30.0\n",
              "40  1919    Hare                16.2\n",
              "41  1920    Hare                24.7"
            ]
          },
          "metadata": {
            "tags": []
          },
          "execution_count": 9
        }
      ]
    },
    {
      "cell_type": "markdown",
      "metadata": {
        "colab_type": "text",
        "id": "ihSfGhRhj6a9"
      },
      "source": [
        "The plot makes it clear that the spikes in the lynx population lag those in the hare population. When the populations are plotted against one another over time, the population dynamics orbit in an apparently stable pattern. Volterra (1926) recognized that these population oscillations could be modeled with a pair of differential equations similar to that used to describe springs."
      ]
    },
    {
      "cell_type": "code",
      "metadata": {
        "colab_type": "code",
        "id": "jgjUOVVRj6a9",
        "outputId": "c2caf303-4961-4c6a-b83a-36ecc5b6a354",
        "scrolled": false,
        "colab": {
          "base_uri": "https://localhost:8080/",
          "height": 34
        }
      },
      "source": [
        "lynx_hare_df.columns"
      ],
      "execution_count": 10,
      "outputs": [
        {
          "output_type": "execute_result",
          "data": {
            "text/plain": [
              "Index(['Year', 'Lynx', 'Hare'], dtype='object')"
            ]
          },
          "metadata": {
            "tags": []
          },
          "execution_count": 10
        }
      ]
    },
    {
      "cell_type": "code",
      "metadata": {
        "colab_type": "code",
        "id": "zxIexRJoj6bA",
        "outputId": "68b09259-ba06-48b9-f3b0-cb2e38192899",
        "scrolled": true,
        "colab": {
          "base_uri": "https://localhost:8080/",
          "height": 298
        }
      },
      "source": [
        "ax = lynx_hare_df.loc[:, ['Lynx', 'Hare']].plot()\n",
        "ax.set(xlabel='year', ylabel='pelt (thousands)')"
      ],
      "execution_count": 11,
      "outputs": [
        {
          "output_type": "execute_result",
          "data": {
            "text/plain": [
              "[Text(0, 0.5, 'pelt (thousands)'), Text(0.5, 0, 'year')]"
            ]
          },
          "metadata": {
            "tags": []
          },
          "execution_count": 11
        },
        {
          "output_type": "display_data",
          "data": {
            "image/png": "[encoded data removed]",
            "text/plain": [
              "<Figure size 432x288 with 1 Axes>"
            ]
          },
          "metadata": {
            "tags": [],
            "needs_background": "light"
          }
        }
      ]
    },
    {
      "cell_type": "markdown",
      "metadata": {
        "colab_type": "text",
        "id": "LLHFEoGRj6bD"
      },
      "source": [
        "Plot of the number of lynx and hare pelts (in thousands) collected by the Hudson’s Bay Company between 1900 and 1920."
      ]
    },
    {
      "cell_type": "code",
      "metadata": {
        "colab_type": "code",
        "id": "UzJPmHXjj6bF",
        "outputId": "f56b6183-d5a2-411c-a06b-1e6bb7239610",
        "scrolled": true,
        "colab": {
          "base_uri": "https://localhost:8080/",
          "height": 298
        }
      },
      "source": [
        "plt.scatter(lynx_hare_df.loc[:, 'Lynx'], lynx_hare_df.loc[:, 'Hare'])\n",
        "plt.plot(lynx_hare_df.loc[:, 'Lynx'], lynx_hare_df.loc[:, 'Hare'])\n",
        "plt.xlabel('lynx pelts (thousands)')\n",
        "plt.ylabel('hare pelts (thousands)')"
      ],
      "execution_count": 12,
      "outputs": [
        {
          "output_type": "execute_result",
          "data": {
            "text/plain": [
              "Text(0, 0.5, 'hare pelts (thousands)')"
            ]
          },
          "metadata": {
            "tags": []
          },
          "execution_count": 12
        },
        {
          "output_type": "display_data",
          "data": {
            "image/png": "[encoded data removed]",
            "text/plain": [
              "<Figure size 432x288 with 1 Axes>"
            ]
          },
          "metadata": {
            "tags": [],
            "needs_background": "light"
          }
        }
      ]
    },
    {
      "cell_type": "markdown",
      "metadata": {
        "colab_type": "text",
        "id": "zscP5rWzj6bI"
      },
      "source": [
        "Plot of the number of pelts collected for lynx versus hares from 1900 to 1920. This plot is similar to that of the dynamics of a spring in phase space (i.e., position vs. momentum)."
      ]
    },
    {
      "cell_type": "markdown",
      "metadata": {
        "colab_type": "text",
        "id": "REdoJXx2j6bK"
      },
      "source": [
        "## Mechanistic Model: The Lotka-Volterra Equations\n",
        "\n",
        "The Lotka-Volterra equations (Lotka 1925; Volterra 1926, 1927) are based on the assumptions that\n",
        "\n",
        "- the predator population intrinsically shrinks,\n",
        "- the prey population intrinsically grows,\n",
        "- a larger prey population leads to a larger predator population, and\n",
        "- a larger predator population leads to a smaller prey population.\n",
        "\n",
        "More specifically, the rate of growth of the prey population is proportional to the size of the prey population, leading to exponential growth if unchecked. The prey population simultaneously shrinks at a rate proportional to the size of the product of the prey and predator populations. For the predator species, the direction of growth is reversed. The predator population shrinks at a rate proportional to its size and grows at a rate proportional to the product of its size and the prey population’s size.\n",
        "\n",
        "Together, these dynamics lead to a cycle of rising and falling populations. With a low lynx population, the hare population grows. As the hare population grows, it allows the lynx population to grow. Eventually, the lynx population is large enough to start cutting down on the hare population. That in turn puts downward pressure on the lynx population. The cycle then resumes from where it started.\n",
        "\n",
        "The Lotka-Volterra equations (Volterra 1926, 1927; Lotka 1925) are a pair of first-order, ordinary differential equations (ODEs) describing the population dynamics of a pair of species, one predator and one prey[<sup>5</sup>](#fn5).\n",
        "\n",
        "* u(t)≥0 is the population size of the prey species at time t, and\n",
        "* v(t)≥0 is the population size of the predator species.\n",
        "\n",
        "Volterra modeled the temporal dynamics of the two species (i.e., population sizes over times) in terms of four parameters, $\\alpha, \\beta, \\gamma, \\delta \\geq 0$, as\n",
        "\n",
        "$$\n",
        "\\begin{eqnarray}\n",
        "\\frac{\\mathrm{d}}{\\mathrm{d}t} u\n",
        "& = &  (\\alpha - \\beta v) u\n",
        "& = & \\alpha u - \\beta u v\n",
        "\\\\[6pt]\n",
        "\\frac{\\mathrm{d}}{\\mathrm{d}t} v\n",
        "& = &  (-\\gamma + \\delta \\, u) \\, v\n",
        "& = & -\\gamma v + \\delta uv\n",
        "\\end{eqnarray}\n",
        "$$\n",
        "\n",
        "As usual in writing differential equations, $u(t)$ and $v(t)$ are rendered as $u$ and $v$ to simplify notation.  The factor $\\alpha$ is the growth rate of the prey population, whereas $\\beta$ is the rate of shrinkage relative to the product of the population sizes.  The factor $\\gamma$ is the shrinkage rate of the predator population and $\\delta$ is the growth rate of the predator population as a factor of the product of the population sizes.\n",
        "\n",
        "\n",
        "### Positivitity constraint and extinction\n",
        "\n",
        "As measures of population sizes, the values of $u(t)$ and $v(t)$ must be non-negative(As in much of ecology, undead are frowned upon). Nothing in the differential equations here explicitly enforces positivity.  Nevertheless, as long as the initial populations are non-negative, i.e., $u(0) \\geq 0$ and $v(0) \\geq 0$, the values $u(t)$ and $v(t)$ for other times $t$ must also be non-negative.\n",
        "This is because the rate of change in each population is a factor of the population size itself.\n",
        "\n",
        "Although a population following the Lotka-Volterra dynamics will never become extinct,[<sup>7</sup>](#fn7) it may become arbitrarily small.   In reality, random events such as accidents can cause extinction events as can not so random events such as extensive hunting.  Therefore, the Lotka-Volterra model should not be expected to adequately model the dynamics of small populations.\n",
        "\n",
        "\n",
        "### Behavior in the limit\n",
        "\n",
        "One way to understand systems of equations is to consider their limiting behavior.  In this case, there are four behaviors, falling in two broad classes.\n",
        "\n",
        "1. If both population sizes are initially positive, the populations will oscillate in a fixed pattern indefinitely, remaining positive.\n",
        "2. If both population sizes are initially zero, the population sizes will remain zero.\n",
        "3. If the predator population size is zero and the prey population size positive, the predator population size remains zero and the prey population grows without bound.\n",
        "4. If the predator population size is positive and the prey population size zero, the prey population size remains zero while the predator population shrinks toward zero size (i.e., it asymptotes at zero).\n"
      ]
    },
    {
      "cell_type": "markdown",
      "metadata": {
        "id": "EbZvgMMrGIFe",
        "colab_type": "text"
      },
      "source": [
        "<span id=\"fn7\">7 The dodo (right), in 1682, before the population became extinct.</span>\n",
        "![title](img/dodo.jpg\"width=\"400\")\n",
        "<span style=\"font-size:70%; float:right\"> 1682, Sir Thomas Herbert, public domain.</span>"
      ]
    },
    {
      "cell_type": "markdown",
      "metadata": {
        "id": "e4GJ0IezGIFg",
        "colab_type": "text"
      },
      "source": [
        "<span id=\"fn5\">5 Solutions to the Lotka-Volterra equations for predator and prey population sizes. The temporal trajectory of populations forms a stable orbit when plotted in two dimensions (Volterra 1926).</span>\n",
        "\n",
        "![title](img/volterra-orbits.jpg\"width=\"400\")\n",
        "\n",
        "<span style=\"font-size:70%; float:right\">  © 1926, Nature Publishing Group</span>\n"
      ]
    },
    {
      "cell_type": "markdown",
      "metadata": {
        "colab_type": "text",
        "id": "Rkg3Z5Zbj6bK"
      },
      "source": [
        "## Statistical Model: Prior Knowledge and Unexplained Variation\n",
        "\n",
        "### Solving the inverse problem\n",
        "\n",
        "For a given legal value of the model parameters and initial state,  the Lotka-Volterra model predicts population dynamics into the future (and into the past).  But given noisy data about population dynamics, how do we solve the inverse problem, that of inferring the values of model parameters consistent with the data?  The general approach in Bayesian statistics is somewhat counterintuitive, as it involves formulating the forward model then using general principles to solve the inverse problem.\n",
        "\n",
        "Specifically, a Bayesian model requires a mathematical model of what we know about the parameters (i.e., a prior) and a model of what we know about the data generating process given the parameters (i.e., a sampling distribution (The choice of prior is no more or less “subjective” than the choice of sampling distribution—both are mathematical approximations to some process of interest and as such must be validated for utility)).\n",
        "Mathematically, a prior density $p(\\theta)$ over the sequence of parameters $\\theta$ encapsulates our knowledge of the parameters before seeing the data.  A sampling distribution (The sampling distribution p(θ|y) is called a likelihood function when considered as a function L(θ) of the parameters θ for fixed data y), which may have a continuous, discrete or mixed probability function, $p(y | \\theta)$ characterizes the distribution of observable data $y$ given parameters $\\theta$.\n",
        "\n",
        "Bayes's rule gives us a general solution to the inverse problem, expressing the posterior $p(\\theta | y)$ in terms of the prior $p(\\theta)$ and likelihood $p(y | \\theta)$[<sup>10</sup>](#fn10).\n",
        "\n",
        "Stan provides a form of Markov chain Monte Carlo (MCMC) sampling that draws a sample $\\theta^{(1)}, \\ldots, \\theta^{(M)}$ from the posterior to use for computational inference. Posterior quantities of interest may be expressed as derived random variables using functions $f(\\theta)$ of parameters. Such functions may be used for posterior expectation calculations such as parameter estimates that minimize expected square error when $f(\\theta) = \\theta$, or event probabilities such as the probability of the hare population falling below some fraction of the lynx population, when $f(\\theta)$ is some indicator function. \n",
        "\n",
        "### Measurement Error and Unexplained Variation\n",
        "\n",
        "The Lotka-Volterra model is deterministic.  Given the system parameters and the initial conditions, the solutions to the equations are fully determined.  Population measurements are not so well behaved that they exactly follow the model; there is residual, unexplained variation, as well as measurement error.\n",
        "\n",
        "There are factors that impact predator and prey population size other than the current population size.  There are variable environmental effects, such as weather, which will vary from season to season and year to year and affect population sizes.  Infectious diseases occasionally spread through a population, reducing its size (Hewitt 1921).  There are also more long-term environmental factors such as carrying capacity (Carrying capacity is roughly the maximum population that an environment can sustain. It is often modeled in the system dynamics as an asymptote on population size.).\n",
        "In addition to factors that affect population which are not modeled, there is typically noise in the measurements. In this particular case, we cannot even measure the population directly.  Instead, pelts are used as a noisy proxy for population sizes (It would be possible to combine Lotka-Volterra dynamics with population models based on mark-recapture data, which are able to estimate actual population sizes, not just relative changes in proportions.). Hewitt (1921) further noted that animals are easier to trap when food is scarce, making the population measurements dependent on the population size.  Even the exact number of pelts taken is likely to be only approximate, as they were collected in a range of locations over an entire season.  Here, the number of pelts is rounded to the closest 100, building in measurement error on the order of 1% (Rounding can be modeled explicitly by allowing the true value to be a parameter; for instance if rounding is to the closest 100, the parameter can be modeled as uniform over the range ±50 from the measured value or even greater if the measurement on which the rounding was based may itself be in error.).\n",
        "\n",
        "### A linear regression analogy\n",
        "\n",
        "Like in a simple linear regression, we will proceed by treating the underlying determinstic model as providing an expected population value around which there will be variation due to both measurement error and simplifications in the scientific model.  Consider the typical formulation of a linear regression, where $y_n$ is an observable scalar outcome, $x_n$ is a row vector of unmodeled predictors (aka covariates, features), $\\beta$ is a coefficient vector parameter, and $\\sigma > 0$ is the error scale,\n",
        "\n",
        "$$\n",
        "\\begin{eqnarray}\n",
        "y_n & = & x_n \\beta + \\epsilon_n\n",
        "\\\\[6pt]\n",
        "\\epsilon_n & \\sim & \\mathsf{Normal}(0, \\sigma)\n",
        "\\end{eqnarray}\n",
        "$$\n",
        "\n",
        "The deterministic part of the equation is the linear predictor $x_n \\beta$ with predictor $x_n$ (row $n$ of the data matrix $x$) and coefficient (column) vector $\\beta$.  The stochastic error term, $\\epsilon_n$, is assigned a normal distribution located at zero with scale parameter $\\sigma > 0$ [<sup>16</sup>](#fn16). We typically formulate this model without the latent error variable $\\epsilon_n$ as follows[<sup>17</sup>](#fn17), \n",
        "\n",
        "$$\n",
        "y_n \\sim \\mathsf{Normal}(x_n \\beta, \\sigma).\n",
        "$$\n",
        "\n",
        "\n",
        "### Lotka-Volterra error model\n",
        "\n",
        "Solutions to the Lotka-Volterra equations replace the linear predictor $x_n \\, \\beta$, but we maintain the error term to compensate for measurement error and unexplained variation in the data.  In the case of population dynamics, the data $y_n$ consists of measurements of the prey $y_{n, 1}$ and predator $y_{n, 2}$ populations at times $t_n$[<sup>18</sup>](#fn18).\n",
        "\n",
        "The true population sizes at time $t = 0$ are unknown---we only have measurements $y^{\\rm init}_1$ and $y^{\\rm init}_2$ of them.  The true initial population sizes at time $t = 0$ will be represented by a parameter $z^{\\mathrm init}$, so that\n",
        "\n",
        "$$\n",
        "\\begin{array}{rcl}\n",
        "z^{\\mathrm init}_1 & = & u(t = 0)\n",
        "\\\\[4pt]\n",
        "z^{\\mathrm init}_2 & = & v(t = 0).\n",
        "\\end{array}\n",
        "$$\n",
        "\n",
        "Next, let $z_1, \\ldots, z_N$ be the solutions to the Lotka-Volterra differential equations at times $t_1, \\ldots, t_N$ given initial conditions $z(t = 0) = z^{\\mathrm init}$ and parameters $\\theta = (\\alpha, \\beta, \\gamma, \\delta)$.  Each $z_n$ is a pair of prey and predator population sizes at the specified times,\n",
        "\n",
        "$$\n",
        "\\begin{array}{rcl}\n",
        "z_{n, 1} & = & u(t_n)\n",
        "\\\\[4pt]\n",
        "z_{n, 2} & = &  v(t_n).\n",
        "\\end{array}\n",
        "$$\n",
        "\n",
        "The $z_n$ are random variables, but they are deterministic functions of the random variables for the initial state $z^{\\mathrm init}$ and system parameters $\\alpha, \\beta, \\gamma, \\delta$.\n",
        "\n",
        "The observed data is in the form of measurements $y^{\\rm init}$ of the initial population of prey and predators, and subsequent measurements $y_n$ of the populations at times $t_n$, where $y^{\\mathrm init}$ and the $y_n$ consist of a pair of measured population sizes, for the prey and predator species.\n",
        "\n",
        "In summary, the measurements, $y^{\\rm init}$ and $y_n$, are drawn indepently from a normal distribution centered at the underlying population sizes, $z^{\\rm init}$ and $z_n$, with noise scales $\\sigma$.  Each quantity here, including the noise scale, is a pair consisting of values for prey and predator.\n",
        "\n"
      ]
    },
    {
      "cell_type": "markdown",
      "metadata": {
        "id": "vTYEL9m4GIFi",
        "colab_type": "text"
      },
      "source": [
        "<span id=\"fn10\">10 Bayes's rule for parameters $\\theta$ and observed data $y$ is $$ \\begin{array}{rcl} p(\\theta\\,|\\, y) & = & \\displaystyle \\frac{p(\\theta, y)}{p(y)} \\\\[4pt] & = & \\displaystyle \\frac{p(y | \\theta) \\, p(\\theta)}{p(y)} \\\\[4pt] & = & \\displaystyle \\frac{p(y | \\theta) \\, p(\\theta)}{\\int_{\\Theta} p(y | \\theta) \\, p(\\theta) \\, \\mathrm{d}\\theta} \\\\[4pt] & \\propto & p(y | \\theta) \\, p(\\theta). \\end{array} $$</span>\n",
        "\n",
        "<span id=\"fn11\">11 The matrix of $\\theta^{(m)}$ values (parameter by draw) is what is returned by the `extract()` function in Stan.</span>\n",
        "\n",
        "<span id=\"fn12\">12 The convergence result (as well as error bounds) follows from the MCMC central limit theorem when $\\theta^{(m)}$ are drawn according to $p(\\theta | y)$ with an appropriate MCMC algorithm,  $$ \\begin{array}{rcl} \\displaystyle \\mathbb{E}[ \\, f(\\theta) \\mid y \\, ] & = & \\int_{\\Theta} \\, f(\\theta) \\, p(\\theta | y) \\, \\mathrm{d}\\theta \\\\[4pt] & = & \\lim_{M \\rightarrow \\infty} \\, \\frac{1}{M} \\sum_{m=1}^M \\, f\\!\\left(\\theta^{(m)}\\right) \\\\[4pt] & \\approx & \\frac{1}{M} \\sum_{m=1}^M \\, f\\!\\left(\\theta^{(m)}\\right) \\ \\ \\mbox{ for some finite } M \\end{array} $$</span>\n",
        "\n",
        "\n",
        "<span id=\"fn16\">16 Gauss initially noted that the maximum likelihood estimate derived from the normal error model is identical to the least square error estimate derived by minimizing the sum of squared errors, $ϵ^⊤ϵ$. With Markov, Gauss further proved that it was the lowest variance unbiased estimator.</span>\n",
        "\n",
        "<span id=\"fn17\">17 The latent error variable may be defined in terms of x, y, and $β$as\n",
        "$ϵ_n=y_n−x_nβ$.</span>\n",
        "    \n",
        "<span id=\"fn18\">18 This model makes the assumption that the underlying population sizes $z_{n,k}$ and measurements of it $y_{n,k}$ are continuous. This is a very tight approximation to counts when the numbers are in the thousands.</span>"
      ]
    },
    {
      "cell_type": "markdown",
      "metadata": {
        "id": "KbkjXoUBGIFk",
        "colab_type": "text"
      },
      "source": [
        "### Multiplicative error and the lognormal distribution\n",
        "\n",
        "It is common to log transform positive-only parameters so that they are no longer constrained to be positive.  On the log scale, we can then take the error to be unconstrained and additive, just as in linear regression.\n",
        "\n",
        "$$\n",
        "\\begin{eqnarray}\n",
        "\\log y_{n, k} & = & \\log z_{n, k} + \\epsilon_{n, k}\n",
        "\\\\[6pt]\n",
        "\\epsilon_{n, k} & \\sim & \\mathsf{Normal}(0, \\sigma_k)\n",
        "\\end{eqnarray}\n",
        "$$\n",
        "\n",
        "where the $z_n$ are the solutions to the Lotka-Volterra equations at times $t_1, \\ldots, t_N$ given initial populations $z^{\\mathrm init}$.  The prey and predator populations have error scales (on the log scale) of $\\sigma_1$ and $\\sigma_2$.\n",
        "\n",
        "\n",
        "With additive errors on the log transformed scales, the result of transforming back to the natural scale (by exponentiation) leads to multiplicative errors,\n",
        "\n",
        "$$\n",
        "\\begin{array}{rcl}\n",
        "y_{n, k} & = & \\exp(\\log z_{n, k} + \\epsilon_{n, k})\n",
        "\\\\[4pt]\n",
        "         & = & z_{n, k} \\, \\exp(\\epsilon_{n,k})\n",
        "\\end{array}\n",
        "$$\n",
        "\n",
        "Because $\\exp(\\epsilon_{n,k})$ is positive and the underlying population size $z_{n,k}$ is positive, their product will be positive. In other words, rather than the measurement being plus or minus some value, it's plus or minus some percentage of the total.\n",
        "\n",
        "This transform and its associated fractional error is so common that they are jointly known as the lognormal distribution, so that we can simplify the above notation as we did with linear regression and write\n",
        "\n",
        "$$\n",
        "y_{n, k} \\sim \\mathsf{LogNormal}(z_{n, k}, \\sigma_n).\n",
        "$$\n",
        "whenever\n",
        "$$\n",
        "\\log y_{n, k} \\sim \\mathsf{Normal}(z_{n, k}, \\sigma_n).\n",
        "$$\n",
        "The $\\mathsf{LogNormal}$ density accounts for the non-linear change of variables through a Jacobian adjustment (The [Stan manual chapter on changes of variables](https://mc-stan.org/docs/2_23/stan-users-guide/changes-of-variables.html) works through the Jacobian adjustment for this particular change of variables.).\n",
        "\n",
        "### Weakly informative priors\n",
        "\n",
        "Our only remaining task is to formulate what we know about the parameters as priors.  In general, we recommend at least weakly informative priors on parameters (The Stan Development Team, in a [Wiki on prior choice recommendations](https://github.com/stan-dev/stan/wiki/Prior-Choice-Recommendations).). In practice, weakly informative priors inform the scale of the answer, but have only a negligible effect on the exact value;  that is, they are not very sensitive by design.  While not being very sensitive, they help enormously to ease computation, as Stan might otherwise work very hard to explore the outskirts of gnarly, unregularized distributions. In order to formulate such priors, we need to know the rough scale on which to expect an answer.  Because this model is well understood and widely used, as is the basic behavior of predator and prey species such as lynxes and hares, the parameter ranges leading to stable and realistic population oscillations are well known.\n",
        "\n"
      ]
    },
    {
      "cell_type": "markdown",
      "metadata": {
        "id": "7hfFI7L3GIFl",
        "colab_type": "text"
      },
      "source": [
        "![title](img/n_logn.png\"width=\"200\")\n",
        "The top figure shows the density of a standard normal variate, i.e., location (mean) 0 and scale (standard deviation) 1. The bottom figure the corresponding standard lognormal variate, i.e., log location 0 and log scale 1. The central 99.5% interval is shown in both cases with a dashed vertical line indicating the median and dotted lines the boundaries of the central 95% interval. The skew in the lognormal plot is due to the exponentiation—the range (2, 3) in the standard normal plot, containing only 2% of the total probability mass, maps to (7, 20) in the lognormal plot and still contains only 2% of the probability mass. If the horizontal and vertical axes were drawn to the same scale, the areas under the two curves would be identical."
      ]
    },
    {
      "cell_type": "markdown",
      "metadata": {
        "id": "Iq1g0aYiGIFm",
        "colab_type": "text"
      },
      "source": [
        "### Priors for system parameters\n",
        "\n",
        "For the parameters, recall that $\\alpha$ and $\\gamma$ are multipliers of $u$ and $-v$ respectively in the state equations, whereas $\\beta$ and $\\delta$ are multipliers of the product $u \\, v$.  Combined with the fact that the scale of $u$ and $v$ are roughly 10 as the data has been encoded, we can formulate similar weakly informative priors,\n",
        "\n",
        "$$\n",
        "\\begin{eqnarray}\n",
        "\\alpha, \\gamma & \\sim & \\mathsf{Normal}(1, 0.5)\n",
        "\\\\[6pt]\n",
        "\\beta, \\delta & \\sim & \\mathsf{Normal}(0.05, 0.05)\n",
        "\\end{eqnarray}\n",
        "$$\n",
        "\n",
        "### Prior for noise scale\n",
        "\n",
        "The noise scale is proportional, so the following prior should be weakly informative, as a value smaller than 0.05 or larger than 3 would be unexpected (The 95% interval is approximately the mean plus or minus two standard deviations, which here is exp(−1−2)≈0.05 and exp(−1+2)≈3). Because values are positive, this prior adopts the lognormal distribution (A lognormal prior on σσ is not consistent with zero values of σσ, but we do not expect the data to be consistent with values of σσ near zero because the model is not particularly accurate. It makes well calibrated predictions, but they are not very sharp.).\n",
        "\n",
        "$$\n",
        "\\sigma \\sim \\mathsf{LogNormal}(-1, 1)\n",
        "$$\n",
        "\n",
        "Another reasonable prior choice would be a broad half normal.[<sup>23</sup>](#fn23)"
      ]
    },
    {
      "cell_type": "markdown",
      "metadata": {
        "id": "0iav1r5OGIFn",
        "colab_type": "text"
      },
      "source": [
        "<span id=\"fn23\">23 An interval prior with hard boundaries is not recommended as it may bias results if the data is compatible with results near the boundary.</span>\n",
        "\n",
        "![title](img/logn_1.png\"width=\"200\")\n",
        "\n",
        "Plot of lognormal(-1, 1) prior. The median, 0.4, is highlighted with a dashed line and the central 95% interval, (0.05, 2.7), with dotted lines. This prior density is not consistent with values of sigma approaching zero.\n",
        "\n",
        "![title](img/logn_2.png\"width=\"200\")\n",
        "\n",
        "Plot of lognormal(log(10), 1) prior. The median, 2.3, is highlighted with a dashed line and the 95% interval, (1.4, 75), withdotted lines. This prior suffices for both predator and prey population sizes.\n"
      ]
    },
    {
      "cell_type": "markdown",
      "metadata": {
        "colab_type": "text",
        "id": "AzIcb9Qdj6bL"
      },
      "source": [
        "## Coding the Model: Stan Program\n",
        "\n",
        "### Coding the system dynamics\n",
        "\n",
        "Whenever a general system of differential equations is involved, the system equations must be coded as a Stan function.  In this case, the model is relatively simple as the state is only two dimensional and there are only four parameters.  Stan requires the system to be defined with exactly the signature defined here for the function <code>dz_dt()</code>, even if not all of them are used.  The first argument is for time, which is not used here because the rates in the Lotka-Voltarra equations do not depend on time. The second argument is for the system state, coded as an array\n",
        "$z = (u, v)$.  The third argument is for the parameters of the equation, of which the Lotka-Voltarra equations have four, which are coded as $\\theta = (\\alpha, \\beta, \\gamma, \\delta)$.  The fourth and fifth argument are for data constants, but none are needed here, so these arguments are unused.\n",
        "\n",
        "```\n",
        "real[] dz_dt(real t, real[] z, real[] theta,\n",
        "             real[] x_r, int[] x_i) {\n",
        "  real u = z[1];\n",
        "  real v = z[2];\n",
        "  real alpha = theta[1];\n",
        "  real beta = theta[2];\n",
        "  real gamma = theta[3];\n",
        "  real delta = theta[4];\n",
        "  real du_dt = (alpha - beta * v) * u;\n",
        "  real dv_dt = (-gamma + delta * u) * v;\n",
        "  return { du_dt, dv_dt };\n",
        "}\n",
        "```\n",
        "\n",
        "After unpacking the variables from their containers, the derivatives of population with respect to time are defined just as in the mathematical specification.  The return value uses braces to construct the two-element array to return, which consists of the derivatives of the system components with respect to time,\n",
        "\n",
        "$$\n",
        "\\frac{\\mathrm{d}}{\\mathrm{d}t} z\n",
        "\\ = \\ \\frac{\\mathrm{d}}{\\mathrm{d}t} (u, v)\n",
        "\\ = \\ \\left( \\frac{\\mathrm{d}}{\\mathrm{d}t} u, \\, \\frac{\\mathrm{d}}{\\mathrm{d}t} v \\right).\n",
        "$$\n",
        "\n",
        "The data variables are coded following their specifications,\n",
        "\n",
        "```\n",
        "data {\n",
        "  int<lower = 0> N;           // num measurements\n",
        "  real ts[N];                 // measurement times > 0\n",
        "  real y_init[2];             // initial measured population\n",
        "  real<lower = 0> y[N, 2];    // measured population at measurement times\n",
        "}\n",
        "```\n",
        "\n",
        "as are the parameters,\n",
        "\n",
        "```\n",
        "parameters {\n",
        "  real<lower = 0> theta[4];   // theta = { alpha, beta, gamma, delta }\n",
        "  real<lower = 0> z_init[2];  // initial population\n",
        "  real<lower = 0> sigma[2];   // error scale\n",
        "}\n",
        "```\n",
        "\n",
        "The solutions to the Lotka-Volterra equations for a given initial state $z^{\\mathrm init}$ are defined as transformed parameters.  This will allow them to be used in the model and inspected in the output (as we do in later graphs).  It also makes it clear that they are all functions of the initial population and parameters (as well as the solution times (Stan provides two solvers, a Runge-Kutta 4th/5th-order solver (_rk45) and a backwards-differentiation formula solver (_bdf) for stiff systems. The RK45 solver is twice as fast as the BDF solver for this data. The symptom of stiffness is slow iterations that may appear to be hanging if a large number of iterations is permitted. If the solver runs into stiffness and more careful initialization or prior choice does not mitigate the problem, the BDF solver may be used to adjust for the ill-conditioned Jacobians at the cost of increased computation time.)).\n",
        "```\n",
        "transformed parameters {\n",
        "  real z[N, 2]\n",
        "    = integrate_ode_rk45(dz_dt, z_init, 0, ts, theta,\n",
        "                         rep_array(0.0, 0), rep_array(0, 0),\n",
        "                         1e-6, 1e-5, 1e3);\n",
        "}\n",
        "```\n",
        "\n",
        "The required real and integer data arguments in the second line are both given as constant size-zero arrays.  The last line provides relative and absolute tolerances, along with the maximum number of steps allowed in the solver before rejecting (Rejections behave like zero density points from which no progress may be made; in C++, the behavior is to throw an exception, which is caught and displayed as an error message by the interfaces.). For further efficiency, the tolerances for the differential equation solver are relatively loose for this example; usually tighter tolerances are required (smaller numbers).\n",
        "\n",
        "With the solutions in hand, the only thing left are the prior and likelihood.  As with the other parts of the model, these directly follow the notation in the mathematical specification.\n",
        "\n",
        "```\n",
        "model {\n",
        "  theta[{1, 3}] ~ normal(1, 0.5);\n",
        "  theta[{2, 4}] ~ normal(0.05, 0.05);\n",
        "  sigma ~ lognormal(-1, 1);\n",
        "  z_init ~ lognormal(log(10), 1);\n",
        "  for (k in 1:2) {\n",
        "    y_init[k] ~ lognormal(log(z_init[k]), sigma[k]);\n",
        "    y[ , k] ~ lognormal(log(z[, k]), sigma[k]);\n",
        "  }\n",
        "}\n",
        "```\n",
        "\n",
        "The multiple indexing `theta[{1, 3}]` indicates that both `theta[1]` and `theta[3]` get the prior `normal(1, 0.5)`;  it is both more efficient and more compact to represent them this way.  The second sampling statement involving `y[ , k]` is vectorized and amounts to the same thing as an additional loop,\n",
        "\n",
        "```\n",
        "for (n in 1:N)\n",
        "  y[n, k] ~ lognormal(log(z[n, k]), sigma[k])\n",
        "```\n",
        "\n",
        "As with the prior, the vectorized form used in the actual model block is much more efficient.  The `y_init` sampling statement could be pulled out of the loop, but there is not much efficiency gain as there are only two elements, so it is left in this form for clarity.\n",
        "\n",
        "\n"
      ]
    },
    {
      "cell_type": "markdown",
      "metadata": {
        "colab_type": "text",
        "id": "EzT3ZB2Mj6bM"
      },
      "source": [
        "\n",
        "## Solving the Inverse Problem: Bayesian Inference in Stan\n",
        "\n",
        "### Fitting the Hudson's Bay Company data"
      ]
    },
    {
      "cell_type": "markdown",
      "metadata": {
        "colab_type": "text",
        "id": "xT1cJ2rqkQA-"
      },
      "source": [
        "First, we call the filepath of stanfile `lotka-volterra.stan`  containing the model code. The CmdStanModel class specifies the Stan program and its corresponding compiled executable."
      ]
    },
    {
      "cell_type": "code",
      "metadata": {
        "colab_type": "code",
        "id": "5e_CNGfakpFh",
        "colab": {}
      },
      "source": [
        "path = os.path.join('.','lotka-volterra.stan')\n",
        "model = CmdStanModel(stan_file=path)"
      ],
      "execution_count": 0,
      "outputs": []
    },
    {
      "cell_type": "markdown",
      "metadata": {
        "id": "Fv4r2AxePI8o",
        "colab_type": "text"
      },
      "source": [
        "Next, the data is munged into a form suitable for Stan and printed. \n"
      ]
    },
    {
      "cell_type": "code",
      "metadata": {
        "colab_type": "code",
        "id": "v9c7DPNlj6bN",
        "scrolled": true,
        "colab": {}
      },
      "source": [
        "N = lynx_hare_df.shape[0] - 1\n",
        "ts = np.arange(1, N + 1)\n",
        "y_init = lynx_hare_df.loc[0, ['Hare', 'Lynx']]\n",
        "y = lynx_hare_df.loc[1:, ['Hare', 'Lynx']]\n",
        "\n",
        "data = {\n",
        "    \"N\": N,\n",
        "    \"ts\": ts,\n",
        "    \"y_init\": list(y_init),\n",
        "    \"y\": y.values.tolist(),\n",
        "}\n",
        "\n",
        "print(\"N:\",N,\"\\nts:\",ts,\"\\ny_init:\",list(y_init),\"\\ny:\\n\",y)"
      ],
      "execution_count": 0,
      "outputs": []
    },
    {
      "cell_type": "markdown",
      "metadata": {
        "colab_type": "text",
        "id": "A5a8EFllklR9"
      },
      "source": [
        "Finally, the compiled model and data are used for sampling. Stan's default settings are sufficient for this data set and model.\n"
      ]
    },
    {
      "cell_type": "code",
      "metadata": {
        "id": "4mta4iLMMw--",
        "colab_type": "code",
        "colab": {}
      },
      "source": [
        "fit = model.sample(chains=5, cores=3, data=data)"
      ],
      "execution_count": 0,
      "outputs": []
    },
    {
      "cell_type": "markdown",
      "metadata": {
        "colab_type": "text",
        "id": "HfhfnzdooHKL"
      },
      "source": [
        "The output can be displayed in tabular form.\n"
      ]
    },
    {
      "cell_type": "code",
      "metadata": {
        "colab_type": "code",
        "id": "godbsO8CoN_V",
        "colab": {}
      },
      "source": [
        "fit.summary()"
      ],
      "execution_count": 0,
      "outputs": []
    },
    {
      "cell_type": "markdown",
      "metadata": {
        "id": "O6db3n9kTDve",
        "colab_type": "text"
      },
      "source": [
        "There were no divergent transitions[<sup>27</sup>](#fn27) reported.  The $\\hat{R}$ values are all near 1, which is consistent with convergence.  The effective sample size estimates for each parameter are sufficient for inference.[<sup>28</sup>](#fn28) Thus we have reason to trust that Stan has produced an adequate approximation of the posterior.\n"
      ]
    },
    {
      "cell_type": "markdown",
      "metadata": {
        "id": "NyLuBnr7_e8Y",
        "colab_type": "text"
      },
      "source": [
        "<span id=\"fn27\">27 Divergences occur when Stan’s Hamiltonian solver diverges from the true Hamiltonian, which must be conserved, because of numerical problems in the stepwise gradient-based approximation of the curvature of the log density.</span>\n",
        "\n",
        "<span id=\"fn28\">28 With effective sample sizes of roughly one thousand, standard errors are roughly one thirtieth the size of posterior standard deviations, being in an inverse square root relation.</span>"
      ]
    },
    {
      "cell_type": "markdown",
      "metadata": {
        "colab_type": "text",
        "id": "RcyvwyW1oPZ0"
      },
      "source": [
        "\n",
        "\n",
        "\n",
        "\n",
        "\n",
        "\n",
        "## Comparing the fitted model to data\n",
        "\n",
        "Using a non-statistically motivated error term and optimization, Howard (2009, Figure 2.10) provides the following point estimates for the model parameters based on the data.\n",
        "$$\n",
        "\\alpha^* = 0.55, \\ \\\n",
        "\\beta^* = 0.028, \\ \\\n",
        "\\gamma^* = 0.84, \\ \\\n",
        "\\delta^* = 0.026\n",
        "$$\n",
        "\n",
        "Our model produced the following point estimates based on the posterior mean,[<sup>29</sup>](#fn29)\n",
        "\n",
        "$$\n",
        "\\hat{\\alpha} = 0.55, \\ \\\n",
        "\\hat{\\beta} = 0.028, \\ \\\n",
        "\\hat{\\gamma} = 0.80, \\ \\\n",
        "\\hat{\\delta} = 0.024,\n",
        "$$\n",
        "\n",
        "which are very close to Howard's estimates. [<sup>30</sup>](#fn30) The posterior intervals, which are quite wide here, may be interpreted probabilistically,\n",
        "\n",
        "$$\n",
        "\\begin{array}{ccc}\n",
        "\\mbox{Pr}[0.47 \\leq \\alpha \\leq 0.63] & = & 0.8\n",
        "\\\\[4pt]\n",
        "\\mbox{Pr}[0.23 \\leq \\beta \\leq 0.33] & = & 0.8\n",
        "\\\\[4pt]\n",
        "\\mbox{Pr}[0.69 \\leq \\delta \\leq 0.91] & = & 0.8\n",
        "\\\\[4pt]\n",
        "\\mbox{Pr}[0.020 \\leq \\gamma \\leq 0.029] & = & 0.8\n",
        "\\end{array}\n",
        "$$\n",
        "The effect of these estimates is plotted later with simulated population orbits.\n",
        "\n",
        "Error scales for both populations have the same posterior mean estimate,\n",
        "\n",
        "$$\n",
        "\\hat{\\sigma}_1 \\ = \\ \\hat{\\sigma}_2 \\ = \\ 0.25.\n",
        "$$\n",
        "\n",
        "and both have the same posterior 80% interval, (0.20, 0.31).[<sup>31</sup>](#fn31) \n",
        "\n",
        "## Inference for population sizes\n",
        "\n",
        "One inference we would like to make from our data is the size of the lynx and hare populations over time. Technically, we can only estimate the expected sizes of future pelt collections and must assume the population is somehow directly related to the numbers of pelts collected.  Howard (2009) plugs in optimization-derived point estimates to derive population predictions.\n",
        "\n",
        "Rather than plugging in point estimates to get point predictions, we will follow the fully Bayesian approach of adjusting for uncertainty.  This uncertainty takes two forms in inference.  First, there is estimation uncertainty, which is fully characterized by the joint posterior density $p(\\alpha, \\beta, \\gamma, \\delta, z^{\\mathrm init}, \\sigma \\mid y)$.[<sup>32</sup>](#fn32)\n",
        "\n",
        "The second form of uncertainty stems from measurement error and unexplained variation, which are both rolled into a single sampling distribution, $\\log y_n \\sim \\mathsf{Normal}(\\log z_n, \\sigma)$.  As in the Stan implementation, $z_n = (u_n, v_n)$ is the solution to the differential equation conditioned on the parameters $\\theta = (\\alpha, \\beta, \\gamma, \\delta, \\sigma)$ and initial state $z^{\\mathrm init}$.\n",
        "\n",
        "## Posterior predictive checks\n",
        "\n",
        "\n",
        "We use posterior predictive checks to evaluate how well our model fits the data from which it was estimated.[<sup>33</sup>](#fn33)\n",
        "\n",
        "\n",
        "The basic idea is to take the posterior for the fitted model and use it to predict what the data should've looked like.  That is, we will be replicating new $y$ values that parallel the actual observations $y$.  Becuase they are replicated values, we write them as as $y^{\\mathrm{rep}}$.  The distribution of these replicated values is given by the posterior predictive distribution,\n",
        "\n",
        "\n",
        "$$\n",
        "p(y^{\\mathrm{rep}} | y)\n",
        "\\ = \\\n",
        "\\int p(y^{\\mathrm{rep}} | \\theta) \\ p(\\theta | y) \\ \\mathrm{d}\\theta,\n",
        "$$\n",
        "\n",
        "where $\\theta = (\\alpha, \\beta, \\gamma, \\delta, z^{\\mathrm init}, \\sigma)$ is the vector of parameters for the model.  Our two forms of uncertainty are represented in the two terms in the integral.  The first is the sampling distribution for the replications, $p(y^{\\mathrm rep} | \\theta)$, which is the distribution of observations $y^{\\mathrm rep}$ given parameters $\\theta$.  This term encapsulates the unexplained variance and measurement error. The second term is the posterior $p(\\theta | y)$, which encapsulates our uncertainty in our parameter estimates $\\theta$ given the observations $y$.  Here, the integral takes a weighted average of the sampling distribution, with weights given by the posterior.  In statistical terms, we are calculating an expectation of a function of the parameters, $f(\\theta) = p(y^{\\mathrm rep} | \\theta)$, over  the posterior $p(\\theta | y)$, which can be written concisely as a conditional expectation,\n",
        "\n",
        "$$\n",
        "p(y^{\\mathrm{rep}} | y)\n",
        "\\ = \\\n",
        "\\mathbb{E}\\!\\left[ \\, p(y^{\\mathrm{rep}} | \\theta) \\ \\, \\big| \\ \\, y \\, \\right].\n",
        "$$\n",
        "\n",
        "\n",
        "## Stan code for posterior predictive checks\n",
        "\n",
        "Stan defines predictive quantities in the generated quantities block, which is executed once per iteration.[<sup>34</sup>](#fn34) The code declares variables at the top of the block, then defines them in a loop over the species, then over the times.\n",
        "\n",
        "```\n",
        "generated quantities {\n",
        "  real y_init_rep[2];\n",
        "  real y_rep[N, 2];\n",
        "  for (k in 1:2) {\n",
        "    y_init_rep[k] = lognormal_rng(log(z_init[k]), sigma[k]);\n",
        "    for (n in 1:N)\n",
        "      y_rep[n, k] = lognormal_rng(log(z[n, k]), sigma[k]);\n",
        "  }\n",
        "}\n",
        "```\n",
        "\n",
        "![title](img/posterior_predict_check.PNG\"width=\"200\")\n",
        "\n",
        "Posterior predictive checks, including posterior means and 50% intervals along with the measured data. If the model is well calibrated, as this one appears to be, 50% of the points are expected to fall in their 50% intervals.\n",
        "\n",
        "\n",
        "The uncertainty due to parameter estimation is rolled into the values of `z_init`, `z`, and `sigma`.  The uncertainty due to unexplained variation and measurement error is captured through the use of the lognormal pseudorandom number generator, `lognormal_rng`.  The additional noise in the measurements `y` over that of the underlying population predictions `z` is visualized in the plots.\n",
        "\n",
        "\n",
        "![title](img/expected_pop_orbit.PNG\"width=\"200\")\n",
        "\n",
        "Plot of expected population orbit for one hundred draws from the posterior. Each draw represents a different orbit determined by the differential equation system parameters. Together they provide a sketch of posterior uncertainty for the expected population dynamics. If the ODE solutions were extracted per month rather than per year, the resulting plots would appear fairly smooth.\n",
        "\n",
        "![title](img/expected_pelt_orbit.PNG\"width=\"200\")\n",
        "\n",
        "Plot of expected pelt collection orbits for one hundred draws of system parameters from the posterior. Even if plotted at more fine-grained time intervals, error would remove any apparent smoothness. Extreme draws as seen here are typical when large values have high error on the multiplicative scale.\n",
        "\n"
      ]
    },
    {
      "cell_type": "markdown",
      "metadata": {
        "id": "RlcVAAh1CGxv",
        "colab_type": "text"
      },
      "source": [
        "<span id=\"fn29\">29  The posterior mean minimizes expected squared error, whereas posterior medians minimize expected absolute error. Here, the mean and median are the same to within MCMC standard error.</span>\n",
        "\n",
        "<span id=\"fn30\">30 Discrepancies are to be expected in that we are finding a posterior mean wheras Howard is finding a posterior mode. We do not suspect the priors have a strong influence here, but this could be checked by varying them and comparing results, i.e., performing a sensitivity analysis.</span>\n",
        "\n",
        "\n",
        "<span id=\"fn31\">31 This suggests they may be completely pooled and modeled using a single parameter.</span>\n",
        "\n",
        "<span id=\"fn32\">32 In well-behaved models in which the data is broadly consistent with the prior and likelihood, estimation uncertainty is reduced by larger samples; as more data is available, it will overwhelm the fixed priors and the posterior will concentrate around the true values of the parameters.</span>\n",
        "\n",
        "\n",
        "<span id=\"fn33\">33 This is “testing on the training data” in machine learning parlance, and while we would not trust it for final evaluation, it is an easy way to spot inconsistencies in the implementation of misspecification in the model.</span>\n",
        "\n",
        "<span id=\"fn34\">34 The log density and its gradient are typically evaluated many times per iteration to follow the Hamiltonian trajectory of the parameters given some initial momenta.</span>"
      ]
    },
    {
      "cell_type": "markdown",
      "metadata": {
        "colab_type": "text",
        "id": "bqAvgOUjj6bP"
      },
      "source": [
        "# Conclusion: What are the Population Dynamics?\n",
        "\n",
        "Even with the strong assumption that the number of pelts collected is proportional to the population, we only know how the relative sizes of the populations change, not their actual sizes.\n",
        "\n",
        "\n",
        "## Predicted population cycles\n",
        "\n",
        "\n",
        "In the same way as Volterra (1926) plotted the cycles of predator and prey populations, we can select draws of $z^{\\mathrm rep}$ from the posterior and plot them. The variation here is due to posterior uncertainty in the value of the system parameters $\\alpha, \\beta, \\gamma, \\delta$ and the initial population $z^{\\mathrm init}$.\n",
        "\n",
        "## Predicted measurements\n",
        "\n",
        "In addition to the estimation uncertainty discussed in the previous section, there is also the general error due to measurement error, model misspecification, etc.  In order to simulate the number of pelts that are reported collected (which may itself have error relative to the actual number of pelts), we must additionally consider the general error term.  That is already rolled into the variables $y^{\\mathrm rep}$, so we plot those here.\n",
        "\n",
        "\n",
        "# Exercises and Extensions \n",
        "\n",
        "The Lotka-Volterra model is easily extended for realistic applications in several obvious ways.  I ran out of steam before turning this case study into a book on Bayesian modeling.  I leave the next steps for this model to the dedicated reader. [<sup>35</sup>](#fn35) Even if you don't plan to do the exercises, they provide a concise description of where this model can be taken.\n",
        "\n",
        "1.  *Simulation-based calibration*.  Write a Stan model to simulate data from this model.  First simulate parameters from the prior (or pick ones consistent with the priors).  Then simulate data from the parameters.  Finally, fit the model in Stan and compare the coverage as in the last plot in the case study.[<sup>36</sup>](#fn36)\n",
        "\n",
        "1.  *Forecasting and backcasting*.  Extend predictions another 50 years into the future and plot as in the last plot.  This can be done by extending the solution points in the transformed parameters, but is more efficiently done in the generated quantities block.  Next, extend the predictions 50 years into the past and plot.[<sup>37</sup>](#fn37) Is there anything suspicious about the long-term uncertainty measures?\n",
        "\n",
        "1.  *Missing data*.  Suppose that several of the measurements are missing.  Write a Stan program that uses only the observed measurements.  This will require coding the data in long form [<sup>38</sup>](#fn38) as\n",
        "```\n",
        "int J;                  // num observations\n",
        "int spec[J];            // species for obs j\n",
        "real tt[J];             // time for obs j\n",
        "real<lower = 0> yy[J];  // yy[j] == y[tt[j], spec[j]]\n",
        "```\n",
        "and coding the model as\n",
        "```\n",
        "for (j in 1:J)\n",
        "  yy[j] ~ normal(zz[tt[j], spec[j]], sigma[spec[j]]);\n",
        "```\n",
        "Only this part of the model changes;  the ODE is set up and fit as before with the complete set of time points.  What happens to the computation and posterior inferences as increasing amounts of data are missing?  How can the missing data points be imputed using the generated quantities block?[<sup>39</sup>](#fn39)\n",
        "1.  *Error model.* Replace the lognormal error with a simple normal error model.  What does this do to the `z` estimates and to the basic parameter estimates?  Which error model fits better?\n",
        "1.  *Sensitivity analysis and prior choice*.  Perform a sensitivity analysis on the prior choices made for this model.  When the prior means or scales are varied, how much does the posterior vary?  Does the model become easier or harder to fit (in terms of effective sample size per unit time or divergent transitions) with different prior choices?  What does this imply about the number of digits with which we report results and thus the effective sample sizes necessary for most inferences?\n",
        "1. *Model misspecification.* Swap the coding of the lynx and hare in the input so that the predator is modeled as prey and vice-versa.   How well does it fit the data?  How does this provide evidence for the folk theorem?[<sup>40</sup>](#fn40)\n",
        "\n",
        "1. *Multiple species.* Extend the model to deal with more than one species.  Treat each species as as having a mixture of predators and a mixture of prey affecting its growth.  Simulate data and fit to your model.  Do the equations become stiff as more species and interactions are added?  How much data is required to identify the model as the number of species and their mixing increases?[<sup>41</sup>](#fn41)\n",
        "1. *Covariates.*  Suppose we have measured covariates such as temperature, water, and plant abundance.  Set up a model where these have further effects on populations modeled as unconstrained multiplies of the existing species size.  Simulate data using your covariates.  What does the existence of covariates do to the uncertainty estimates compared to using a model without covariates?\n",
        "1. *Joint mark-recapture modeling*.  Suppose that we also have mark-recapture data for each species over the same time period.  Find or simulate such data.   Build a mark-recapture model such as Cormack-Jolly-Seber and jointly model the population in terms of the CJS model and the Lotka-Volterra model.[<sup>42</sup>](#fn42) How can you scale the population dynamics model in order to work at the same scale as the mark-recapture model?  Does this reduce uncertainty in the population dynamics?  Does the joint model improve on fitting the mark-recapture model or Lotka-Volterra models separately?\n",
        "1. *Measurement error*.  Suppose the number of lynx pelts collected is affected by the size of the population.  In particular, suppose a larger proportion of lynx are captured when they are hungry. How cold this be included as a component of the model?  What parameter would be introduced?  Simulate data and see if the true populations can be recovered with the model.\n",
        "1. *Carrying capacity*.  How can a carrying capacity (upper bound on population size) be incorporated into the Lotka-Volterra model?  Formulate the model in Stan and fit it to simulated data.  If the data is simulated near the carrying capacity, how does it fit using the simpler Lotka-Volterra model?\n",
        "1. *Cross-validation and predictive calibration*.  Cross validation as such doesn't make much sense for time series.  Nevertheless, it is possible to fit data to initial sequences of a time series and predict the remaining sequence.  How could this be achieved here?[<sup>43</sup>](#fn43) Do you need to write more than one Stan model?"
      ]
    },
    {
      "cell_type": "markdown",
      "metadata": {
        "id": "RtBQ8nGYE5kM",
        "colab_type": "text"
      },
      "source": [
        "<span id=\"fn35\">35 If you complete a few of these exercises and write them up, please [let me know](mailto:carp@alias-i.com) I'd be happy to extend this case study and add a co-author or publish a follow-on case study.</span>\n",
        "\n",
        "<span id=\"fn36\">36 This basic validation technique was extended and converted to a statistical test of MCMC algorithm fit by Cook, Gelman and Rubin (2006). Their test of Bayesian calibration relies on data simulated from the model being calibrated by construction in full Bayesian posterior inference. As extra credit, apply this test to validate the model.</span>\n",
        "\n",
        "<span id=\"fn37\">37 *Hint*: the initial time will have to be changed in the call to ode_integrate.</span>\n",
        "\n",
        "<span id=\"fn38\">38 Long form is known as “melted” in R’s Tidyverse.</span>\n",
        "\n",
        "<span id=\"fn39\">39 There is a chapter on missing data with more details in the Stan manual.</span>\n",
        "\n",
        "<span id=\"fn40\">40 *Folk Theorem* (Gelman) When you have computational problems, often there’s a problem with your model.</span>\n",
        "\n",
        "<span id=\"fn41\">41 *Hint*: see Michael Betancourt’s case study on mixture models on the Stan web site for general advice on mixture modeling.</span>\n",
        "\n",
        "<span id=\"fn42\">42 The Stan manual chapter on latent discrete parameters describes how to code the Cormack-Jolly-Seber model for mark-recapture data.</span>\n",
        "\n",
        "<span id=\"fn43\">43 *Hint*: Considier using the [`loo`](http://mc-stan.org/loo/) package for leave-one-out cross-validation (Vehtari, Gelman, and Gabray 2017).</span>"
      ]
    },
    {
      "cell_type": "markdown",
      "metadata": {
        "id": "_aj_OKChEyF5",
        "colab_type": "text"
      },
      "source": [
        "## References\n",
        "\n",
        "* Cook, S. R., Gelman, A., & Rubin, D. B. (2006)  Validation of software for Bayesian models using posterior quantiles. *Journal of Computational and Graphical Statistics*, 15(3), 675--692.\n",
        "* Hewitt, C. G. (1921) [*The Conservation of the Wild Life of Canada*](https://books.google.com/books?id=8hVDAAAAIAAJ). Charles Scribner's Sons.\n",
        "* Howard, P. (2009). [Modeling basics](http://www.math.tamu.edu/~phoward/m442/modbasics.pdf). Lecture Notes for Math 442, Texas A&M University.\n",
        "* Lotka, A. J. (1925). *Principles of physical biology*. Baltimore: Waverly.\n",
        "* Rogers, K. (2011) [The rise and fall of the Canada lynx and snowshoe hare]( http://blogs.britannica.com/2011/06/rise-fall-canada-lynx-snowshoe-hare/). *Encyclopedia Brittanica Blog*.\n",
        "* Stan Development Team (2017) *Stan Modeling Language Users Guide and Reference Manual*, Version 2.17, [http://mc-stan.org](http://mc-stan.org).\n",
        "* Vehtari, A., Gelman, A. & Gabry, J. (2017) Practical Bayesian model evaluation using leave-one-out cross-validation and WAIC.   *Journal of Statistics and Computing* 27(5):1413--1432.\n",
        "* Volterra, V. (1926). Fluctuations in the abundance of a species considered mathematically. *Nature*, 118(2972), 558-560.\n",
        "* Volterra, V. (1927). *Variazioni e fluttuazioni del numero d'individui in specie animali conviventi*. C. Ferrari.\n",
        "\n",
        "## Source code\n",
        "\n",
        "All of the source code, data, text, and images for this case study are available on GitHub at\n",
        "\n",
        "* [stan-dev/example-models/knitr/lotka-volterra](https://github.com/stan-dev/example-models/tree/master/knitr/lotka-volterra)\n",
        "\n",
        "\n",
        "## Acknowledgements \n",
        "\n",
        "Thanks to Simon Woodward, Arya Pourzanjani, and Leo Lahti for helpful comments on earlier drafts and Peter Howard for providing the provenance of the data and the original case study with the data.  Thanks to Joss Wright for patching an illegally formed data object.\n",
        "\n",
        "<br />\n",
        "\n",
        "\n",
        "## Complete Stan program \n",
        "\n",
        "\n",
        "Here is the complete Stan program for solving the inverse problem for the Lotka-Volterra model, including posterior predictive checks.\n",
        "\n",
        "```\n",
        "functions {\n",
        "  real[] dz_dt(real t,       // time\n",
        "               real[] z,     // system state {prey, predator}\n",
        "               real[] theta, // parameters\n",
        "               real[] x_r,   // unused data\n",
        "               int[] x_i) {\n",
        "    real u = z[1];\n",
        "    real v = z[2];\n",
        "    real alpha = theta[1];\n",
        "    real beta = theta[2];\n",
        "    real gamma = theta[3];\n",
        "    real delta = theta[4];\n",
        "    real du_dt = (alpha - beta * v) * u;\n",
        "    real dv_dt = (-gamma + delta * u) * v;\n",
        "    return { du_dt, dv_dt };\n",
        "  }\n",
        "}\n",
        "data {\n",
        "  int<lower = 0> N;          // number of measurement times\n",
        "  real ts[N];                // measurement times > 0\n",
        "  real y_init[2];            // initial measured populations\n",
        "  real<lower = 0> y[N, 2];   // measured populations\n",
        "}\n",
        "parameters {\n",
        "  real<lower = 0> theta[4];   // { alpha, beta, gamma, delta }\n",
        "  real<lower = 0> z_init[2];  // initial population\n",
        "  real<lower = 0> sigma[2];   // measurement errors\n",
        "}\n",
        "transformed parameters {\n",
        "  real z[N, 2]\n",
        "    = integrate_ode_rk45(dz_dt, z_init, 0, ts, theta,\n",
        "                         rep_array(0.0, 0), rep_array(0, 0),\n",
        "                         1e-5, 1e-3, 5e2);\n",
        "}\n",
        "model {\n",
        "  theta[{1, 3}] ~ normal(1, 0.5);\n",
        "  theta[{2, 4}] ~ normal(0.05, 0.05);\n",
        "  sigma ~ lognormal(-1, 1);\n",
        "  z_init ~ lognormal(10, 1);\n",
        "  for (k in 1:2) {\n",
        "    y_init[k] ~ lognormal(log(z_init[k]), sigma[k]);\n",
        "    y[ , k] ~ lognormal(log(z[, k]), sigma[k]);\n",
        "  }\n",
        "}\n",
        "generated quantities {\n",
        "  real y_init_rep[2];\n",
        "  real y_rep[N, 2];\n",
        "  for (k in 1:2) {\n",
        "    y_init_rep[k] = lognormal_rng(log(z_init[k]), sigma[k]);\n",
        "    for (n in 1:N)\n",
        "      y_rep[n, k] = lognormal_rng(log(z[n, k]), sigma[k]);\n",
        "  }\n",
        "}\n",
        "```\n",
        "\n",
        "\n",
        "\n",
        "\n",
        "\n",
        "## Licenses  \n",
        "\n",
        "<span style=\"font-size:85%\">Code &copy; 2017--2018, Trustees of Columbia University in New York, licensed under BSD-3.</span>\n",
        "\n",
        "<span style=\"font-size:85%\">Text &copy; 2017--2018, Bob Carpenter, licensed under CC-BY-NC 4.0.</span>"
      ]
    }
  ]
}