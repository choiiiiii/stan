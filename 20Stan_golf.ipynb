{
  "nbformat": 4,
  "nbformat_minor": 0,
  "metadata": {
    "colab": {
      "name": "20Stan_golf.ipynb",
      "provenance": [],
      "collapsed_sections": [],
      "include_colab_link": true
    },
    "kernelspec": {
      "display_name": "Python 3",
      "language": "python",
      "name": "python3"
    },
    "language_info": {
      "codemirror_mode": {
        "name": "ipython",
        "version": 3
      },
      "file_extension": ".py",
      "mimetype": "text/x-python",
      "name": "python",
      "nbconvert_exporter": "python",
      "pygments_lexer": "ipython3",
      "version": "3.7.6"
    }
  },
  "cells": [
    {
      "cell_type": "markdown",
      "metadata": {
        "id": "view-in-github",
        "colab_type": "text"
      },
      "source": [
        "<a href=\"https://colab.research.google.com/github/choiiiiii/stan/blob/master/20Stan_golf.ipynb\" target=\"_parent\"><img src=\"https://colab.research.google.com/assets/colab-badge.svg\" alt=\"Open In Colab\"/></a>"
      ]
    },
    {
      "cell_type": "code",
      "metadata": {
        "id": "hBkiivD5LW7e",
        "colab_type": "code",
        "colab": {}
      },
      "source": [
        "import cmdstanpy\n",
        "import pandas as pd\n",
        "import numpy as np\n",
        "from scipy.stats import beta\n",
        "import matplotlib.pyplot as plt\n",
        "import os\n",
        "from cmdstanpy import CmdStanModel, cmdstan_path\n",
        "\n",
        "\n",
        "def get_stan_model(code):\n",
        "    code_hash = hashlib.sha1(code.encode('utf-8')).hexdigest()\n",
        "    cache_path =  './cache/' + code_hash + '.pkl'\n",
        "    try:\n",
        "        with open(cache_path, 'rb') as file:\n",
        "            model = pickle.load(file)\n",
        "    except Exception:\n",
        "        model = pystan.StanModel(model_code=code) ## c로 변환\n",
        "        with open(cache_path, 'wb') as file:\n",
        "            pickle.dump(model, file)\n",
        "    return model"
      ],
      "execution_count": 0,
      "outputs": []
    },
    {
      "cell_type": "code",
      "metadata": {
        "id": "E9pxUnWPLW7q",
        "colab_type": "code",
        "colab": {}
      },
      "source": [
        "df = pd.read_csv('data/golf_data.txt')\n",
        "new_df = pd.read_csv('data/golf_newdata.txt')"
      ],
      "execution_count": 0,
      "outputs": []
    },
    {
      "cell_type": "markdown",
      "metadata": {
        "id": "pyoX-SDPOAZD",
        "colab_type": "text"
      },
      "source": [
        "#Model building and expansion for golf putting\n",
        "\n",
        "\n",
        "Andrew Gelman\n",
        "\n",
        "\n",
        "24 Sep 2019\n",
        "\n",
        "\n",
        "The following graph shows data from professional golfers on the proportion of successful putts as a function of distance from the hole. Unsurprisingly, the probability of making the shot declines as a function of distance:"
      ]
    },
    {
      "cell_type": "markdown",
      "metadata": {
        "id": "8rdHdzGKOIwv",
        "colab_type": "text"
      },
      "source": [
        "![title](data/img/golf_data.png)\n"
      ]
    },
    {
      "cell_type": "markdown",
      "metadata": {
        "id": "y-tyIeqQOPnl",
        "colab_type": "text"
      },
      "source": [
        "The error bars associated with each point $j$\n",
        "in the above graph are simple classical standard deviations, $ \\sqrt{\\hat{p_j}(1- \\hat{p_j}/ n_j)} $, where $\\hat{p_j} = y_j/n_j$ is the success rate for putts taken at distance $x_j$"
      ]
    },
    {
      "cell_type": "markdown",
      "metadata": {
        "id": "2xbCwbQ0O1qK",
        "colab_type": "text"
      },
      "source": [
        "## Logistic regression\n",
        "Can we model the probability of success in golf putting as a function of distance from the hole? Given usual statistical practice, the natural starting point would be logistic regression:\n",
        "\n",
        "$$y_j \\sim binomial(n_j,logit^{-1}(a+bx_j)),\\ for\\ j=1,\\dots\\, J$$\n",
        "\n",
        "In Stan, this is:"
      ]
    },
    {
      "cell_type": "markdown",
      "metadata": {
        "id": "Lwz7CV5TPO7t",
        "colab_type": "text"
      },
      "source": [
        "```\n",
        "data {\n",
        "  int J;\n",
        "  int n[J];\n",
        "  vector[J] x;\n",
        "  int y[J];\n",
        "}\n",
        "parameters {\n",
        "  real a;\n",
        "  real b;\n",
        "}\n",
        "model {\n",
        "  y ~ binomial_logit(n, a + b*x);\n",
        "}\n",
        "```"
      ]
    },
    {
      "cell_type": "markdown",
      "metadata": {
        "id": "PW8QOpIaPadk",
        "colab_type": "text"
      },
      "source": [
        "The code in the above model block is (implicitly) vectorized, so that it is mathematically equivalent to modeling each data point, `y[i] ~ binomial_logit(n[i],a+b*x[i])`. The vectorized code is more compact (no need to write a loop, or to include the subscripts) and faster (because of more efficient gradient evaluations).\n",
        "\n",
        "\n",
        "We fit the model to the data:"
      ]
    },
    {
      "cell_type": "code",
      "metadata": {
        "id": "H1LPZAA4wn4B",
        "colab_type": "code",
        "colab": {}
      },
      "source": [
        ""
      ],
      "execution_count": 0,
      "outputs": []
    },
    {
      "cell_type": "markdown",
      "metadata": {
        "id": "ydfqinaTwiyG",
        "colab_type": "text"
      },
      "source": [
        "And here is the result:"
      ]
    },
    {
      "cell_type": "markdown",
      "metadata": {
        "id": "CqvsPw6DwlXM",
        "colab_type": "text"
      },
      "source": [
        "Going through the columns of the above table: Stan has computed the posterior means ± standard deviations of $a$ and $b$ to be 2.23 ± 0.06 and -0.26 ± 0.01, respectively. The Monte Carlo standard error of the mean of each of these parameters is 0 (to two decimal places), indicating that the simulations have run long enough to estimate the posterior means precisely. The posterior quantiles give a sense of the uncertainty in the parameters, with 50% posterior intervals of $[2.19, 2.27]$ and $[-0.26, -0.25]$ for $a$ and $b$, respectively. Finally, the values of $\\hat{R}$ near 1 tell us that the simulations from Stan’s four simulated chains have mixed well. (We have more sophisticated convergence diagnostics, and also we recommend checking the fit using simulated data, as discussed in the Bayesian Workflow Using Stan book, but checking that $\\hat{R}$\n",
        "is near 1 is a good start.)\n",
        "The following graph shows the fit plotted along with the data:"
      ]
    },
    {
      "cell_type": "markdown",
      "metadata": {
        "id": "iD0M2wvExM7h",
        "colab_type": "text"
      },
      "source": [
        "![title](data/img/logistic_regression.png)"
      ]
    },
    {
      "cell_type": "markdown",
      "metadata": {
        "id": "_DQh2f3axWYl",
        "colab_type": "text"
      },
      "source": [
        "The black line shows the fit corresponding to the posterior median estimates of the parameters $a$ and $b$; the green lines show 10 draws from the posterior distribution.\n",
        "\n",
        "\n",
        "In this example, posterior uncertainties in the fits are small, and for simplicity we will just plot point estimates based on posterior median parameter estimates for the remaining models. Our focus here is on the sequence of models that we fit, not so much on uncertainty in particular model fits."
      ]
    },
    {
      "cell_type": "markdown",
      "metadata": {
        "id": "bim-wUJsxgIB",
        "colab_type": "text"
      },
      "source": [
        "## Modeling from first principles\n",
        "\n",
        "As an alternative to logistic regression, we shall build a model from first principles and fit it to the data.\n",
        "\n",
        "The graph below shows a simplified sketch of a golf shot. The dotted line represents the angle within which the ball of radius $r$ must be hit so that it falls within the hole of radius $R$. This threshold angle is $sin^{-1}((R-r)/x)$. The graph, which is not to scale, is intended to illustrate the geometry of the ball needing to go into the hole."
      ]
    },
    {
      "cell_type": "markdown",
      "metadata": {
        "id": "ud6jTjbQxwOi",
        "colab_type": "text"
      },
      "source": [
        "![title](data/img/golf_geometry.png)"
      ]
    },
    {
      "cell_type": "markdown",
      "metadata": {
        "id": "0AfGSlIhxxwM",
        "colab_type": "text"
      },
      "source": [
        "The next step is to model human error. We assume that the golfer is attempting to hit the ball completely straight but that many small factors interfere with this goal, so that the actual angle follows a normal distribution centered at 0 with some standard deviation $\\sigma$."
      ]
    },
    {
      "cell_type": "markdown",
      "metadata": {
        "id": "cjmuDGYnx2sZ",
        "colab_type": "text"
      },
      "source": [
        "![title](data/img/angle_of_shot.png)"
      ]
    },
    {
      "cell_type": "markdown",
      "metadata": {
        "id": "wTs66RRDx4pL",
        "colab_type": "text"
      },
      "source": [
        "The probability the ball goes in the hole is then the probability that the angle is less than the threshold; that is, \n",
        "$Pr(|angle| < sin^{-1}((R-r)/x) = 2\\Phi(\\frac{sin^{-1}(R-r)/x)}{\\sigma})-1$,where $\\Phi$ is the cumulative normal distribution function. The only unknown parameter in this model is $\\sigma$, the standard deviation of the distribution of shot angles. Stan (and, for that matter, R) computes trigonometry using angles in radians, so at the end of our calculations we will need to multiply by $180/\\pi$\n",
        "to convert to degrees, which are more interpretable by humans.\n",
        "\n",
        "\\\\\n",
        "Our model then has two parts: \n",
        "\n",
        "$$y_j \\sim binomial(n_j,p_j)$$\n",
        "$$p_j = 2\\Phi(\\frac{sin^{-1}(R-r)/x)}{\\sigma}) - 1,\\ for\\ j=1,\\dots,J$$\n",
        "\n",
        "Here is a graph showing the curve for some potential values of the parameter $\\sigma$.\n"
      ]
    },
    {
      "cell_type": "markdown",
      "metadata": {
        "id": "vXyO6iXdzOjD",
        "colab_type": "text"
      },
      "source": [
        "![title](data/img/model_comparison_sigma.png)"
      ]
    },
    {
      "cell_type": "markdown",
      "metadata": {
        "id": "TG4v1GzszQeA",
        "colab_type": "text"
      },
      "source": [
        "The highest curve on the graph corresponds to $\\sigma = 0.5^{\\circ}$: if golfers could control the angles of their putts to an accuracy of approximately half a degree, they would have a very high probability of success, making over 80% of their ten-foot putts, over 50% of their fifteen-foot putts, and so on. At the other extreme, the lowest plotted curve corresponds to $\\sigma = 20^{\\circ}$: if your putts could be off as high as 20 degrees, then you would be highly inaccurate, missing more than half of your two-foot putts. When fitting the model in Stan, the program moves around the space of $\\sigma$, sampling from the posterior distribution."
      ]
    },
    {
      "cell_type": "markdown",
      "metadata": {
        "id": "Tp_5BdsazqSV",
        "colab_type": "text"
      },
      "source": [
        "We now write the Stan model in preparation to estimating $\\sigma$ :\n",
        "\n"
      ]
    },
    {
      "cell_type": "markdown",
      "metadata": {
        "id": "XFqGP6CZz3kn",
        "colab_type": "text"
      },
      "source": [
        "```\n",
        "data {\n",
        "  int J;\n",
        "  int n[J];\n",
        "  vector[J] x;\n",
        "  int y[J];\n",
        "  real r;\n",
        "  real R;\n",
        "}\n",
        "transformed data {\n",
        "  vector[J] threshold_angle = asin((R-r) ./ x);\n",
        "}\n",
        "parameters {\n",
        "  real<lower=0> sigma;\n",
        "}\n",
        "model {\n",
        "  vector[J] p = 2*Phi(threshold_angle / sigma) - 1;\n",
        "  y ~ binomial(n, p);\n",
        "}\n",
        "generated quantities {\n",
        "  real sigma_degrees = sigma * 180 / pi();\n",
        "}\n",
        "```\n",
        "\n",
        "\n"
      ]
    },
    {
      "cell_type": "markdown",
      "metadata": {
        "id": "slTQeKxAz5sT",
        "colab_type": "text"
      },
      "source": [
        "In the transformed data block above, the `./` in the calculation of p corresponds to componentwise division in this vectorized computation.\n",
        "\n",
        "\n",
        "\n",
        "The data $J,n,x,y$ have already been set up; we just need to define $r$ and $R$ (the golf ball and hole have diameters 1.68 and 4.25 inches, respectively), and run the Stan model:"
      ]
    },
    {
      "cell_type": "code",
      "metadata": {
        "id": "Ks4cWxq20Fcm",
        "colab_type": "code",
        "colab": {}
      },
      "source": [
        "code for geometry"
      ],
      "execution_count": 0,
      "outputs": []
    },
    {
      "cell_type": "markdown",
      "metadata": {
        "id": "TEy2JGtv0Ljw",
        "colab_type": "text"
      },
      "source": [
        "Here is the result:"
      ]
    },
    {
      "cell_type": "markdown",
      "metadata": {
        "id": "An1XKqlt0Nsf",
        "colab_type": "text"
      },
      "source": [
        "The model has a single parameter, $\\sigma$. From the output, we find that Stan has computed the posterior mean of $\\sigma$ to be 0.03. Multiplying this by $180/\\pi$\n",
        ", this comes to 1.53 degrees. The Monte Carlo standard error of the mean is 0 (to two decimal places), indicating that the simulations have run long enough to estimate the posterior mean precisely. The posterior standard deviation is calculated at 0.02 degrees, indicating that $\\sigma$ itself has been estimated with high precision, which makes sense given the large number of data points and the simplicity of the model. The precise posterior distribution of $\\sigma$ can also be seen from the narrow range of the posterior quantiles. Finally, $\\hat{R}$ is near 1, telling us that the simulations from Stan’s four simulated chains have mixed well."
      ]
    },
    {
      "cell_type": "markdown",
      "metadata": {
        "id": "Y1y-9cOm0pHm",
        "colab_type": "text"
      },
      "source": [
        "We next plot the data and the fitted model (here using the posterior median of $\\sigma$\n",
        "but in this case the uncertainty is so narrow that any reasonable posterior summary would give essentially the same result), along with the logistic regression fitted earlier:"
      ]
    },
    {
      "cell_type": "markdown",
      "metadata": {
        "id": "P_Q1Nn8L0tNI",
        "colab_type": "text"
      },
      "source": [
        "![title](data/img/model_comparison.png)"
      ]
    },
    {
      "cell_type": "markdown",
      "metadata": {
        "id": "GtVg_FLd0vUx",
        "colab_type": "text"
      },
      "source": [
        "The custom nonlinear model fits the data much better. This is not to say that the model is perfect—any experience of golf will reveal that the angle is not the only factor determining whether the ball goes in the hole—but it seems like a useful start, and it is good to know that we can fit nonlinear models by just coding them up in Stan.\n"
      ]
    },
    {
      "cell_type": "markdown",
      "metadata": {
        "id": "v0ixPjanLW72",
        "colab_type": "text"
      },
      "source": [
        "## Testing the fitted model on new data\n",
        "\n",
        "Recently a local business school professor and golfer, Mark Broadie, came by my office with tons of new data. For simplicity we’ll just look here at the summary data, probabilities of the ball going into the hole for shots up to 75 feet from the hole. The graph below shows these new data (in red), along with our earlier dataset (in blue) and the already-fit geometry-based model from before, extending to the range of the new data.\n",
        "\n"
      ]
    },
    {
      "cell_type": "markdown",
      "metadata": {
        "id": "5ayMzz_oLW74",
        "colab_type": "text"
      },
      "source": [
        "![title](data/img/checking_alreadyfit.png)\n"
      ]
    },
    {
      "cell_type": "markdown",
      "metadata": {
        "id": "4V60djEeLW76",
        "colab_type": "text"
      },
      "source": [
        "Comparing the two datasets in the range 0-20 feet, the success rate is similar for longer putts but is much higher than before for the short putts. This could be a measurement issue, if the distances to the hole are only approximate for the old data, and it could also be that golfers are better than they used to be.\n",
        "\n",
        "Beyond 20 feet, the empirical success rates become lower than would be predicted by the old model. These are much more difficult attempts, even after accounting for the increased angular precision required as distance goes up."
      ]
    },
    {
      "cell_type": "markdown",
      "metadata": {
        "id": "YDvCrW5aLW78",
        "colab_type": "text"
      },
      "source": [
        "## A new model accounting for how hard the ball is hit\n",
        "To get the ball in the hole, the angle isn’t the only thing you need to control; you also need to hit the ball just hard enough.\n",
        "\n",
        "Mark Broadie added this to our model by introducing another parameter corresponding to the golfer’s control over distance. Supposing uu is the distance that golfer’s shot would travel if there were no hole, Broadie assumes that the putt will go in if (a) the angle allows the ball to go over the hole, and (b) uu is in the range [x,x+3]. That is the ball must be hit hard enough to reach the whole but not go too far. Factor (a) is what we have considered earlier; we must now add factor (b).\n",
        "\n",
        "The following sketch, which is not to scale, illustrates the need for the distance as angle as well as the angle of the shot to be in some range, in this case the gray zone which represents the trajectories for which the ball would reach the hole and stay in it."
      ]
    },
    {
      "cell_type": "markdown",
      "metadata": {
        "id": "-kAI79mWLW7-",
        "colab_type": "text"
      },
      "source": [
        "![title](data/img/golf_physical_model.png)"
      ]
    },
    {
      "cell_type": "markdown",
      "metadata": {
        "id": "uRBcxV_sLW8A",
        "colab_type": "text"
      },
      "source": [
        "Broadie supposes that a golfer will aim to hit the ball one foot past the hole but with a multiplicative error in the shot’s potential distance, so that u=(x+1)⋅(1+error)u=(x+1)⋅(1+error), where the error has a normal distribution with mean 0 and standard deviation σdistanceσdistance. This new parameter σdistanceσdistance represents the uncertainty in the shot’s relative distance. In statistics notation, this model is,\n",
        "\n",
        "$$ u∼normal(x+1,(x+1)\\sigma_{distance }),$$\n",
        "and the distance is acceptable if u∈[x,x+3], an event that has probability \n",
        "$$\\Phi\\left(\\frac{2}{(x+1) \\sigma_{distance}}\\right)-\\Phi\\left(\\frac{-1}{(x+1) \\sigma_{distance}}\\right)$$\n",
        "\n",
        "Putting these together, the probability a shot goes in becomes, \n",
        "\n",
        "$$\\left(2 \\Phi\\left(\\frac{\\sin ^{-1}((R-r)(x)}{\\sigma_{\\text {angle}}}\\right)-1\\right)\\left(\\Phi\\left(\\frac{2}{(x+1) \\sigma_{\\text {distance }}}\\right)-\\Phi\\left(\\frac{-1}{(x+1) \\sigma_{\\text {distance }}}\\right)\\right)$$\n",
        "\n",
        "where we have renamed the parameter σσ from our earlier model to σangleσangle to distinguish it from the new σdistanceσdistance parameter. We write the new model in Stan, giving it the name `golf_angle_distance_2.stan` to convey that it is the second model in a series, and that it accounts both for angle and distance:"
      ]
    },
    {
      "cell_type": "markdown",
      "metadata": {
        "id": "7yzrVCp_LW8C",
        "colab_type": "text"
      },
      "source": [
        "```\n",
        "data {\n",
        "  int J;\n",
        "  int n[J];\n",
        "  vector[J] x;\n",
        "  int y[J];\n",
        "  real r;\n",
        "  real R;\n",
        "  real overshot;\n",
        "  real distance_tolerance;\n",
        "}\n",
        "transformed data {\n",
        "  vector[J] threshold_angle = asin((R-r) ./ x);\n",
        "}\n",
        "parameters {\n",
        "  real<lower=0> sigma_angle;\n",
        "  real<lower=0> sigma_distance;\n",
        "}\n",
        "model {\n",
        "  vector[J] p_angle = 2*Phi(threshold_angle / sigma_angle) - 1;\n",
        "  vector[J] p_distance = Phi((distance_tolerance - overshot) ./ ((x + overshot)*sigma_distance)) -\n",
        "               Phi((- overshot) ./ ((x + overshot)*sigma_distance));\n",
        "  vector[J] p = p_angle .* p_distance;\n",
        "  y ~ binomial(n, p);\n",
        "  [sigma_angle, sigma_distance] ~ normal(0, 1);\n",
        "}\n",
        "generated quantities {\n",
        "  real sigma_degrees = sigma_angle * 180 / pi();\n",
        "}\n",
        "```"
      ]
    },
    {
      "cell_type": "markdown",
      "metadata": {
        "id": "c6GJBL60LW8E",
        "colab_type": "text"
      },
      "source": [
        "Here we have defined `overshot` and `distance_tolerance` as data, which Broadie has specified as 1 and 3 feet, respectively. We might wonder why if the distance range is 3 feet, the overshot is not 1.5 feet. One reason could be that it is riskier to hit the ball too hard than too soft. In addition we assigned weakly informative half-normal(0,1) priors on the scale parameters, $\\sigma_{angle}$ and $\\sigma_{distance}$, which are required in this case to keep the computations stable."
      ]
    },
    {
      "cell_type": "code",
      "metadata": {
        "id": "6ojhGv4xLW8G",
        "colab_type": "code",
        "colab": {}
      },
      "source": [
        "golf_angle_distance_2_path = os.path.join('./stanfile','golf_angle_distance_2.stan')\n",
        "golf_angle_distance_2_model = CmdStanModel(stan_file=golf_angle_distance_2_path)\n",
        "golf_angle_distance_2_data = {\n",
        "    \"J\": new_df.shape[0],\n",
        "    \"n\": list(new_df.loc[:,'n']),\n",
        "    \"x\": list(new_df.loc[:,'x']),\n",
        "    \"y\": list(new_df.loc[:,'y']),\n",
        "    \"r\": (1.68/2)/12,\n",
        "    \"R\": (4.25/2)/12,\n",
        "    \"overshot\": 1,\n",
        "    \"distance_tolerance\": 3,\n",
        "}\n",
        "golf_angle_distance_2_fit = golf_angle_distance_2_model.sample(chains=5, cores=3, data=golf_angle_distance_2_data)"
      ],
      "execution_count": 0,
      "outputs": []
    },
    {
      "cell_type": "markdown",
      "metadata": {
        "id": "Lmu56KrhLW8T",
        "colab_type": "text"
      },
      "source": [
        "## Fitting the new model to data\n",
        "We fit the model to the new dataset."
      ]
    },
    {
      "cell_type": "markdown",
      "metadata": {
        "id": "t9adtK4dLW8V",
        "colab_type": "text"
      },
      "source": [
        "![title](data/img/errormessage.png)"
      ]
    },
    {
      "cell_type": "markdown",
      "metadata": {
        "id": "4_GL-ejkLW8X",
        "colab_type": "text"
      },
      "source": [
        "There is poor convergence, and we need to figure out what is going on here. (Problems with computation often indicate underlying problems with the model being fit. That’s the folk theorem of statistical computing.)"
      ]
    },
    {
      "cell_type": "code",
      "metadata": {
        "scrolled": true,
        "id": "h6mLfm44LW8Z",
        "colab_type": "code",
        "colab": {},
        "outputId": "b42a01c9-dbe5-4f1a-cf40-7749390588ae"
      },
      "source": [
        "golf_angle_distance_2_fit.summary()"
      ],
      "execution_count": 0,
      "outputs": [
        {
          "output_type": "execute_result",
          "data": {
            "text/html": [
              "<div>\n",
              "<style scoped>\n",
              "    .dataframe tbody tr th:only-of-type {\n",
              "        vertical-align: middle;\n",
              "    }\n",
              "\n",
              "    .dataframe tbody tr th {\n",
              "        vertical-align: top;\n",
              "    }\n",
              "\n",
              "    .dataframe thead th {\n",
              "        text-align: right;\n",
              "    }\n",
              "</style>\n",
              "<table border=\"1\" class=\"dataframe\">\n",
              "  <thead>\n",
              "    <tr style=\"text-align: right;\">\n",
              "      <th></th>\n",
              "      <th>Mean</th>\n",
              "      <th>MCSE</th>\n",
              "      <th>StdDev</th>\n",
              "      <th>5%</th>\n",
              "      <th>50%</th>\n",
              "      <th>95%</th>\n",
              "      <th>N_Eff</th>\n",
              "      <th>N_Eff/s</th>\n",
              "      <th>R_hat</th>\n",
              "    </tr>\n",
              "    <tr>\n",
              "      <th>name</th>\n",
              "      <th></th>\n",
              "      <th></th>\n",
              "      <th></th>\n",
              "      <th></th>\n",
              "      <th></th>\n",
              "      <th></th>\n",
              "      <th></th>\n",
              "      <th></th>\n",
              "      <th></th>\n",
              "    </tr>\n",
              "  </thead>\n",
              "  <tbody>\n",
              "    <tr>\n",
              "      <td>lp__</td>\n",
              "      <td>-365068.000000</td>\n",
              "      <td>171.989000</td>\n",
              "      <td>334.442000</td>\n",
              "      <td>-365894.000000</td>\n",
              "      <td>-364910.000000</td>\n",
              "      <td>-364909.000000</td>\n",
              "      <td>3.78129</td>\n",
              "      <td>0.288781</td>\n",
              "      <td>2.31330</td>\n",
              "    </tr>\n",
              "    <tr>\n",
              "      <td>sigma_angle</td>\n",
              "      <td>0.013868</td>\n",
              "      <td>0.000636</td>\n",
              "      <td>0.001193</td>\n",
              "      <td>0.013191</td>\n",
              "      <td>0.013307</td>\n",
              "      <td>0.016807</td>\n",
              "      <td>3.52151</td>\n",
              "      <td>0.268941</td>\n",
              "      <td>2.46142</td>\n",
              "    </tr>\n",
              "    <tr>\n",
              "      <td>sigma_distance</td>\n",
              "      <td>0.131105</td>\n",
              "      <td>0.006733</td>\n",
              "      <td>0.012703</td>\n",
              "      <td>0.099335</td>\n",
              "      <td>0.137084</td>\n",
              "      <td>0.138124</td>\n",
              "      <td>3.56017</td>\n",
              "      <td>0.271894</td>\n",
              "      <td>2.46444</td>\n",
              "    </tr>\n",
              "    <tr>\n",
              "      <td>sigma_degrees</td>\n",
              "      <td>0.794584</td>\n",
              "      <td>0.036424</td>\n",
              "      <td>0.068353</td>\n",
              "      <td>0.755758</td>\n",
              "      <td>0.762465</td>\n",
              "      <td>0.962978</td>\n",
              "      <td>3.52151</td>\n",
              "      <td>0.268941</td>\n",
              "      <td>2.46142</td>\n",
              "    </tr>\n",
              "  </tbody>\n",
              "</table>\n",
              "</div>"
            ],
            "text/plain": [
              "                         Mean        MCSE      StdDev             5%  \\\n",
              "name                                                                   \n",
              "lp__           -365068.000000  171.989000  334.442000 -365894.000000   \n",
              "sigma_angle          0.013868    0.000636    0.001193       0.013191   \n",
              "sigma_distance       0.131105    0.006733    0.012703       0.099335   \n",
              "sigma_degrees        0.794584    0.036424    0.068353       0.755758   \n",
              "\n",
              "                          50%            95%    N_Eff   N_Eff/s    R_hat  \n",
              "name                                                                      \n",
              "lp__           -364910.000000 -364909.000000  3.78129  0.288781  2.31330  \n",
              "sigma_angle          0.013307       0.016807  3.52151  0.268941  2.46142  \n",
              "sigma_distance       0.137084       0.138124  3.56017  0.271894  2.46444  \n",
              "sigma_degrees        0.762465       0.962978  3.52151  0.268941  2.46142  "
            ]
          },
          "metadata": {
            "tags": []
          },
          "execution_count": 8
        }
      ]
    },
    {
      "cell_type": "markdown",
      "metadata": {
        "id": "g1wYqNT-LW8l",
        "colab_type": "text"
      },
      "source": [
        "To understand what is happening, we graph the new data and the fitted model, accepting that this “fit,” based as it is on poorly-mixing chains, is only provisional:\n",
        "\n"
      ]
    },
    {
      "cell_type": "markdown",
      "metadata": {
        "id": "wyh2N6WJLW8n",
        "colab_type": "text"
      },
      "source": [
        "![title](data/img/checking_modelfit.png)"
      ]
    },
    {
      "cell_type": "markdown",
      "metadata": {
        "id": "_Vy9kCv_LW8q",
        "colab_type": "text"
      },
      "source": [
        "To understand what is happening, we graph the new data and the fitted model, accepting that this “fit,” based as it is on poorly-mixing chains, is only provisional:"
      ]
    },
    {
      "cell_type": "code",
      "metadata": {
        "id": "3t5qzWzrLW8s",
        "colab_type": "code",
        "colab": {
          "base_uri": "https://localhost:8080/",
          "height": 195
        },
        "outputId": "bd41e203-a0c6-4f5e-d907-b4b33c5bcc57"
      },
      "source": [
        "new_df.iloc[:5,]"
      ],
      "execution_count": 15,
      "outputs": [
        {
          "output_type": "execute_result",
          "data": {
            "text/html": [
              "<div>\n",
              "<style scoped>\n",
              "    .dataframe tbody tr th:only-of-type {\n",
              "        vertical-align: middle;\n",
              "    }\n",
              "\n",
              "    .dataframe tbody tr th {\n",
              "        vertical-align: top;\n",
              "    }\n",
              "\n",
              "    .dataframe thead th {\n",
              "        text-align: right;\n",
              "    }\n",
              "</style>\n",
              "<table border=\"1\" class=\"dataframe\">\n",
              "  <thead>\n",
              "    <tr style=\"text-align: right;\">\n",
              "      <th></th>\n",
              "      <th>x</th>\n",
              "      <th>n</th>\n",
              "      <th>y</th>\n",
              "    </tr>\n",
              "  </thead>\n",
              "  <tbody>\n",
              "    <tr>\n",
              "      <th>0</th>\n",
              "      <td>0.28</td>\n",
              "      <td>45198</td>\n",
              "      <td>45183</td>\n",
              "    </tr>\n",
              "    <tr>\n",
              "      <th>1</th>\n",
              "      <td>0.97</td>\n",
              "      <td>183020</td>\n",
              "      <td>182899</td>\n",
              "    </tr>\n",
              "    <tr>\n",
              "      <th>2</th>\n",
              "      <td>1.93</td>\n",
              "      <td>169503</td>\n",
              "      <td>168594</td>\n",
              "    </tr>\n",
              "    <tr>\n",
              "      <th>3</th>\n",
              "      <td>2.92</td>\n",
              "      <td>113094</td>\n",
              "      <td>108953</td>\n",
              "    </tr>\n",
              "    <tr>\n",
              "      <th>4</th>\n",
              "      <td>3.93</td>\n",
              "      <td>73855</td>\n",
              "      <td>64740</td>\n",
              "    </tr>\n",
              "  </tbody>\n",
              "</table>\n",
              "</div>"
            ],
            "text/plain": [
              "      x       n       y\n",
              "0  0.28   45198   45183\n",
              "1  0.97  183020  182899\n",
              "2  1.93  169503  168594\n",
              "3  2.92  113094  108953\n",
              "4  3.93   73855   64740"
            ]
          },
          "metadata": {
            "tags": []
          },
          "execution_count": 15
        }
      ]
    },
    {
      "cell_type": "markdown",
      "metadata": {
        "id": "Nh0j1xAeLW84",
        "colab_type": "text"
      },
      "source": [
        "With such large values of $n_j$, the binomial likelihood enforces an extremely close fit at these first few points, and that drives the entire fit of the model.\n",
        "\n",
        "To fix this problem we took the data model, $yj∼binomial(nj,pj)$, and added an independent error term to each observation. There is no easy way to add error directly to the binomial distribution—we could replace it with its overdispersed generalization, the beta-binomial, but this would not be appropriate here because the variance for each data point ii would still be roughly proportional to the sample size njnj, and our whole point here is to get away from this assumption and allow for model misspecification—so instead we first approximate the binomial data distribution by a normal and then add independent variance; thus:\n",
        "\n",
        "$$\n",
        "y_{j} / n_{j} \\sim \\text { normal }\\left(p_{j}, \\sqrt{p_{j}\\left(1-p_{j}\\right) / n_{j}+\\sigma_{y}^{2}}\\right)\n",
        "$$\n",
        "\n",
        "To write this in Stan there are some complications:\n",
        "\n",
        "- y and n are integer variables, which we convert to vectors so that we can multiply and divide them.\n",
        "\n",
        "- To perform componentwise multiplication or division using vectors, you need to use `.*` or `./` so that San knows not to try to perform vector/matrix multiplication and division. Stan is opposite from R in this way: Stan defaults to vector/matrix operations and has to be told otherwise, whereas R defaults to componentwise operations, and vector/matrix multiplication in R is indicated using the `%*%` operator.\n",
        "\n",
        "We implement these via the following new code in the transformed data block:\n",
        "```\n",
        "vector[J] raw_proportions = to_vector(y) ./ to_vector(n);\n",
        "```\n",
        "And then in the model block:\n",
        "```\n",
        "  raw_proportions ~ normal(p, sqrt(p .* (1-p) ./ to_vector(n) + sigma_y^2));\n",
        "```"
      ]
    },
    {
      "cell_type": "markdown",
      "metadata": {
        "id": "9aGGfMLLLW86",
        "colab_type": "text"
      },
      "source": [
        "To complete the model we add $\\sigma_y$ to the parameters block and assign it a weakly informative half-normal(0,1) prior distribution. Here’s the new Stan program:\n",
        "```\n",
        "data {\n",
        "  int J;\n",
        "  int n[J];\n",
        "  vector[J] x;\n",
        "  int y[J];\n",
        "  real r;\n",
        "  real R;\n",
        "  real overshot;\n",
        "  real distance_tolerance;\n",
        "}\n",
        "transformed data {\n",
        "  vector[J] threshold_angle = asin((R-r) ./ x);\n",
        "  vector[J] raw_proportions = to_vector(y) ./ to_vector(n);\n",
        "}\n",
        "parameters {\n",
        "  real<lower=0> sigma_angle;\n",
        "  real<lower=0> sigma_distance;\n",
        "  real<lower=0> sigma_y;\n",
        "}\n",
        "model {\n",
        "  vector[J] p_angle = 2*Phi(threshold_angle / sigma_angle) - 1;\n",
        "  vector[J] p_distance = Phi((distance_tolerance - overshot) ./ ((x + overshot)*sigma_distance)) -\n",
        "               Phi((- overshot) ./ ((x + overshot)*sigma_distance));\n",
        "  vector[J] p = p_angle .* p_distance;\n",
        "  raw_proportions ~ normal(p, sqrt(p .* (1-p) ./ to_vector(n) + sigma_y^2));\n",
        "  [sigma_angle, sigma_distance, sigma_y] ~ normal(0, 1);\n",
        "}\n",
        "generated quantities {\n",
        "  real sigma_degrees = sigma_angle * 180 / pi();\n",
        "}\n",
        "```"
      ]
    },
    {
      "cell_type": "markdown",
      "metadata": {
        "id": "iqZMrDzzLW87",
        "colab_type": "text"
      },
      "source": [
        "We now fit this model to the data:"
      ]
    },
    {
      "cell_type": "code",
      "metadata": {
        "id": "EuvGJZgDLW89",
        "colab_type": "code",
        "colab": {}
      },
      "source": [
        "golf_angle_distance_3_path = os.path.join('./stanfile','golf_angle_distance_3.stan')\n",
        "golf_angle_distance_3_model = CmdStanModel(stan_file=golf_angle_distance_3_path)\n",
        "golf_angle_distance_3_data = {\n",
        "    \"J\": new_df.shape[0],\n",
        "    \"n\": list(new_df.loc[:,'n']),\n",
        "    \"x\": list(new_df.loc[:,'x']),\n",
        "    \"y\": list(new_df.loc[:,'y']),\n",
        "    \"r\": (1.68/2)/12,\n",
        "    \"R\": (4.25/2)/12,\n",
        "    \"overshot\": 1,\n",
        "    \"distance_tolerance\": 3,\n",
        "}\n",
        "golf_angle_distance_3_fit = golf_angle_distance_3_model.sample(chains=5, cores=3, data=golf_angle_distance_3_data)\n",
        "golf_angle_distance_3_fit.summary()\n"
      ],
      "execution_count": 0,
      "outputs": []
    },
    {
      "cell_type": "markdown",
      "metadata": {
        "id": "L-Se212cLW9H",
        "colab_type": "text"
      },
      "source": [
        "The new parameter estimates are:\n",
        "\n",
        "- $\\sigma_{angle}$ is estimated at 0.02, which when corresponds to $\\sigma_{degrees}$  = 1.0. According to the fitted model, there is a standard deviation of 1.0 degree in the angles of putts taken by pro golfers. The estimate of $\\sigma_{angle}$ has decreased compared to the earlier model that only had angular errors. This makes sense: now that distance errors have been included in the model, there is no need to explain so many of the missed shots using errors in angle.\n",
        "\n",
        "- $\\sigma_{distance}$  is estimated at 0.08. According to the fitted model, there is a standard deviation of 8% in the errors of distance.\n",
        "\n",
        "- $\\sigma_{y}$ is estimated at 0.003. The fitted model fits the aggregate data (success rate as a function of distance) to an accuracy of 0.3 percentage points.\n",
        "\n",
        "And now we graph:"
      ]
    },
    {
      "cell_type": "markdown",
      "metadata": {
        "id": "qgcntypLLW9J",
        "colab_type": "text"
      },
      "source": [
        "![title](data/img/checking_modelfit_2.png)"
      ]
    },
    {
      "cell_type": "markdown",
      "metadata": {
        "id": "SIbza767LW9L",
        "colab_type": "text"
      },
      "source": [
        "We can go further and plot the residuals from this fit. First we augment the Stan model to compute residuals in the generated quantities block.\n",
        "\n",
        "Then we compute the posterior means of the residuals, $y_{j}/n_{j}−p_{j}$, then plot these vs. distance:"
      ]
    },
    {
      "cell_type": "markdown",
      "metadata": {
        "id": "tTEu0M-PLW9N",
        "colab_type": "text"
      },
      "source": [
        "![title](data/img/residuals.png)"
      ]
    },
    {
      "cell_type": "markdown",
      "metadata": {
        "id": "BGk6l3u5LW9O",
        "colab_type": "text"
      },
      "source": [
        "The residuals are small (see the scale of the yy-axis) and show no clear pattern, suggesting not that the model is perfect but that there are no clear ways to develop it further just given the current data."
      ]
    },
    {
      "cell_type": "markdown",
      "metadata": {
        "id": "_b-nvTHJLW9S",
        "colab_type": "text"
      },
      "source": [
        "## Problems with the model and potential improvements\n",
        "The error term in the above model is a hack. It’s useful to allow the model not to fit the data perfectly, but it can’t be right to model these systematic errors as being independent. In this case, though, it doesn’t really matter, given how tiny these errors are: their estimated standard deviation is less than one percentage point.\n",
        "\n",
        "The model has two parameters that were fixed as data: `distance_tolerance`, which was set to 3 (implying that the ball will only fall into the hole if it is hit on a trajectory that would go past the hole, but no more than 3 feet past) and `overshot`, which was set to 1 (implying that the golfer will aim 1 foot past the hole). In theory it would be possible to estimate either or both these parameters from the data. In practice, no way. The model already fits the data so well (as shown by the above graph) that there’s clearly no more information available to estimate any additional parameters. If we were to do so, the estimates would be highly noisy and unstable (if their prior is weak) or highly dependent on the prior (if an informative prior distribution is specified). Either way we don’t see the advantage of this sort of fit.\n",
        "\n",
        "Just for laughs, though, we constructed such a model and fit it, just to see what would happen. We simply took our previous Stan program and moved these two parameters from the data block to the parameters block along with zero-boundary constraints:\n",
        "```\n",
        "real<lower=0> overshot;\n",
        "real<lower=0> distance_tolerance;\n",
        "```\n",
        "And then in the model block we added weak priors centered at Broadie’s guesses and with wide uncertainties:\n",
        "\n",
        "```  \n",
        "overshot ~ normal(1, 5);\n",
        "distance_tolerance ~ normal(3, 5);\n",
        "  ```\n",
        "Fitting this model to the data yields poor convergence and no real gain beyond the simpler version already fit in which overshot and distance_tolerance were set to fixed values.\n",
        "\n",
        "The model is unrealistic in other ways, for example by assuming distance error is strictly proportional to distance aimed, and assuming independence of angular and distance errors. Presumably, angular error is higher for longer putts. Again, though, we can’t really investigate such things well using these data which are already such a good fit to the simple two-parameter model we have already fit.\n",
        "\n",
        "Players vary in ability and golf courses vary in difficulty. Given more granular data, we should be able to fit a multilevel model allowing parameters to vary by player, golf course, and weather conditions.\n",
        "\n",
        "# Summary of fitted models\n",
        "We have two datasets, `golf` and `golf_new`, to which we fit several Stan models. First we fit `golf_logistic` and `golf_angle` to the `golf` dataset, then we fit `golf_angle` to the `golf_new` dataset and see a problem, then we fit `golf_angle_distance_2` and `golf_angle_distance_3` to `golf_new` and finally obtained a good fit, then we fit `golf_angle_distance_3_with_resids` which was the same model but also saving residuals. Finally, we fit `golf_angle_distance_4` to `golf_new` but we didn’t display the fit, we just discussed it.\n",
        "\n",
        "# References\n",
        "Don Berry (1995). Statistics: A Bayesian Perspective. Duxbury Press. The original golf dataset appears as an example in this book.\n",
        "\n",
        "Mark Broadie (2018). Two simple putting models in golf. Linked from https://statmodeling.stat.columbia.edu/2019/03/21/new-golf-putting-data-and-a-new-golf-putting-model/. Here is the larger dataset and a document describing the model with angular and distance errors.\n",
        "\n",
        "Andrew Gelman and Deborah Nolan (2002). A probability model for golf putting. Teaching Statistics 50, 151-153. Our first explanation of the angular-error model.\n",
        "\n",
        "All code in this document is licensed under BSD 3-clause license and all text licensed under CC-BY-NC 4.0"
      ]
    }
  ]
}